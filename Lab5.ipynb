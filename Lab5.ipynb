{
 "cells": [
  {
   "cell_type": "markdown",
   "id": "2b012b2a",
   "metadata": {},
   "source": [
    "<a href='https://www.darshan.ac.in/'> <img src='https://www.darshan.ac.in/Content/media/DU_Logo.svg' width=\"250\" height=\"300\"/></a>\n",
    "<pre>\n",
    "<center><b><h1>Machine Learning - 2301CS621</b></center>\n",
    "\n",
    "<center><b><h1>Lab - 5</b></center>    \n",
    "<pre>    "
   ]
  },
  {
   "cell_type": "markdown",
   "id": "b34a93c5",
   "metadata": {},
   "source": [
    "# SVR"
   ]
  },
  {
   "cell_type": "markdown",
   "id": "dd4631cd",
   "metadata": {},
   "source": [
    "# Importing the libraries"
   ]
  },
  {
   "cell_type": "code",
   "execution_count": 1,
   "id": "c41652c5",
   "metadata": {},
   "outputs": [],
   "source": [
    "import pandas as pd\n",
    "import matplotlib.pyplot as plt\n",
    "import pandas as pd\n",
    "from sklearn.model_selection import train_test_split\n",
    "from sklearn.svm import SVR\n",
    "import numpy as np\n"
   ]
  },
  {
   "cell_type": "markdown",
   "id": "fd08e5ff",
   "metadata": {},
   "source": [
    "# Read World bank CSV"
   ]
  },
  {
   "cell_type": "code",
   "execution_count": 2,
   "id": "e3a7dded",
   "metadata": {},
   "outputs": [],
   "source": [
    "df = pd.read_csv('WorldBank.csv')"
   ]
  },
  {
   "cell_type": "code",
   "execution_count": 12,
   "id": "f9d8d387",
   "metadata": {},
   "outputs": [
    {
     "data": {
      "text/html": [
       "<div>\n",
       "<style scoped>\n",
       "    .dataframe tbody tr th:only-of-type {\n",
       "        vertical-align: middle;\n",
       "    }\n",
       "\n",
       "    .dataframe tbody tr th {\n",
       "        vertical-align: top;\n",
       "    }\n",
       "\n",
       "    .dataframe thead th {\n",
       "        text-align: right;\n",
       "    }\n",
       "</style>\n",
       "<table border=\"1\" class=\"dataframe\">\n",
       "  <thead>\n",
       "    <tr style=\"text-align: right;\">\n",
       "      <th></th>\n",
       "      <th>Country Name</th>\n",
       "      <th>Country Code</th>\n",
       "      <th>Indicator Name</th>\n",
       "      <th>Indicator Code</th>\n",
       "      <th>1960</th>\n",
       "      <th>1961</th>\n",
       "      <th>1962</th>\n",
       "      <th>1963</th>\n",
       "      <th>1964</th>\n",
       "      <th>1965</th>\n",
       "      <th>...</th>\n",
       "      <th>2011</th>\n",
       "      <th>2012</th>\n",
       "      <th>2013</th>\n",
       "      <th>2014</th>\n",
       "      <th>2015</th>\n",
       "      <th>2016</th>\n",
       "      <th>2017</th>\n",
       "      <th>2018</th>\n",
       "      <th>2019</th>\n",
       "      <th>2020</th>\n",
       "    </tr>\n",
       "  </thead>\n",
       "  <tbody>\n",
       "    <tr>\n",
       "      <th>0</th>\n",
       "      <td>India</td>\n",
       "      <td>IND</td>\n",
       "      <td>Export value index (2000 = 100)</td>\n",
       "      <td>TX.VAL.MRCH.XD.WD</td>\n",
       "      <td>NaN</td>\n",
       "      <td>NaN</td>\n",
       "      <td>NaN</td>\n",
       "      <td>NaN</td>\n",
       "      <td>NaN</td>\n",
       "      <td>NaN</td>\n",
       "      <td>...</td>\n",
       "      <td>7.147485e+02</td>\n",
       "      <td>7.004085e+02</td>\n",
       "      <td>7.429281e+02</td>\n",
       "      <td>7.614417e+02</td>\n",
       "      <td>6.322694e+02</td>\n",
       "      <td>6.242250e+02</td>\n",
       "      <td>7.061028e+02</td>\n",
       "      <td>7.663608e+02</td>\n",
       "      <td>NaN</td>\n",
       "      <td>NaN</td>\n",
       "    </tr>\n",
       "    <tr>\n",
       "      <th>1</th>\n",
       "      <td>India</td>\n",
       "      <td>IND</td>\n",
       "      <td>Insurance and financial services (% of commerc...</td>\n",
       "      <td>TX.VAL.INSF.ZS.WT</td>\n",
       "      <td>NaN</td>\n",
       "      <td>NaN</td>\n",
       "      <td>NaN</td>\n",
       "      <td>NaN</td>\n",
       "      <td>NaN</td>\n",
       "      <td>NaN</td>\n",
       "      <td>...</td>\n",
       "      <td>6.403614e+00</td>\n",
       "      <td>5.246771e+00</td>\n",
       "      <td>5.729495e+00</td>\n",
       "      <td>5.060904e+00</td>\n",
       "      <td>4.706801e+00</td>\n",
       "      <td>4.471147e+00</td>\n",
       "      <td>3.760466e+00</td>\n",
       "      <td>3.921611e+00</td>\n",
       "      <td>3.438072e+00</td>\n",
       "      <td>NaN</td>\n",
       "    </tr>\n",
       "    <tr>\n",
       "      <th>2</th>\n",
       "      <td>India</td>\n",
       "      <td>IND</td>\n",
       "      <td>Merchandise imports by the reporting economy, ...</td>\n",
       "      <td>TM.VAL.MRCH.RS.ZS</td>\n",
       "      <td>4.983551</td>\n",
       "      <td>6.488050e+00</td>\n",
       "      <td>1.012461e+01</td>\n",
       "      <td>9.451370e+00</td>\n",
       "      <td>1.052948e+01</td>\n",
       "      <td>1.089112e+01</td>\n",
       "      <td>...</td>\n",
       "      <td>7.550664e-01</td>\n",
       "      <td>2.738416e-01</td>\n",
       "      <td>4.409538e-01</td>\n",
       "      <td>1.514439e+00</td>\n",
       "      <td>2.228351e+00</td>\n",
       "      <td>2.270593e+00</td>\n",
       "      <td>1.770314e+00</td>\n",
       "      <td>5.354193e-01</td>\n",
       "      <td>NaN</td>\n",
       "      <td>NaN</td>\n",
       "    </tr>\n",
       "    <tr>\n",
       "      <th>3</th>\n",
       "      <td>India</td>\n",
       "      <td>IND</td>\n",
       "      <td>Food imports (% of merchandise imports)</td>\n",
       "      <td>TM.VAL.FOOD.ZS.UN</td>\n",
       "      <td>NaN</td>\n",
       "      <td>NaN</td>\n",
       "      <td>1.708001e+01</td>\n",
       "      <td>1.519791e+01</td>\n",
       "      <td>1.686304e+01</td>\n",
       "      <td>2.200813e+01</td>\n",
       "      <td>...</td>\n",
       "      <td>3.741041e+00</td>\n",
       "      <td>4.048246e+00</td>\n",
       "      <td>3.895215e+00</td>\n",
       "      <td>4.458509e+00</td>\n",
       "      <td>5.758038e+00</td>\n",
       "      <td>6.505293e+00</td>\n",
       "      <td>6.137617e+00</td>\n",
       "      <td>4.156488e+00</td>\n",
       "      <td>4.248261e+00</td>\n",
       "      <td>NaN</td>\n",
       "    </tr>\n",
       "    <tr>\n",
       "      <th>4</th>\n",
       "      <td>India</td>\n",
       "      <td>IND</td>\n",
       "      <td>Share of tariff lines with international peaks...</td>\n",
       "      <td>TM.TAX.MRCH.IP.ZS</td>\n",
       "      <td>NaN</td>\n",
       "      <td>NaN</td>\n",
       "      <td>NaN</td>\n",
       "      <td>NaN</td>\n",
       "      <td>NaN</td>\n",
       "      <td>NaN</td>\n",
       "      <td>...</td>\n",
       "      <td>8.434346e+00</td>\n",
       "      <td>8.641136e+00</td>\n",
       "      <td>8.576307e+00</td>\n",
       "      <td>NaN</td>\n",
       "      <td>5.802677e+00</td>\n",
       "      <td>7.707811e+00</td>\n",
       "      <td>8.288774e+00</td>\n",
       "      <td>9.111423e+00</td>\n",
       "      <td>NaN</td>\n",
       "      <td>NaN</td>\n",
       "    </tr>\n",
       "    <tr>\n",
       "      <th>...</th>\n",
       "      <td>...</td>\n",
       "      <td>...</td>\n",
       "      <td>...</td>\n",
       "      <td>...</td>\n",
       "      <td>...</td>\n",
       "      <td>...</td>\n",
       "      <td>...</td>\n",
       "      <td>...</td>\n",
       "      <td>...</td>\n",
       "      <td>...</td>\n",
       "      <td>...</td>\n",
       "      <td>...</td>\n",
       "      <td>...</td>\n",
       "      <td>...</td>\n",
       "      <td>...</td>\n",
       "      <td>...</td>\n",
       "      <td>...</td>\n",
       "      <td>...</td>\n",
       "      <td>...</td>\n",
       "      <td>...</td>\n",
       "      <td>...</td>\n",
       "    </tr>\n",
       "    <tr>\n",
       "      <th>1435</th>\n",
       "      <td>India</td>\n",
       "      <td>IND</td>\n",
       "      <td>Foreign direct investment, net inflows (% of GDP)</td>\n",
       "      <td>BX.KLT.DINV.WD.GD.ZS</td>\n",
       "      <td>NaN</td>\n",
       "      <td>NaN</td>\n",
       "      <td>NaN</td>\n",
       "      <td>NaN</td>\n",
       "      <td>NaN</td>\n",
       "      <td>NaN</td>\n",
       "      <td>...</td>\n",
       "      <td>2.002065e+00</td>\n",
       "      <td>1.312934e+00</td>\n",
       "      <td>1.516276e+00</td>\n",
       "      <td>1.695659e+00</td>\n",
       "      <td>2.092116e+00</td>\n",
       "      <td>1.937363e+00</td>\n",
       "      <td>1.506588e+00</td>\n",
       "      <td>1.552336e+00</td>\n",
       "      <td>1.760283e+00</td>\n",
       "      <td>NaN</td>\n",
       "    </tr>\n",
       "    <tr>\n",
       "      <th>1436</th>\n",
       "      <td>India</td>\n",
       "      <td>IND</td>\n",
       "      <td>Net capital account (BoP, current US$)</td>\n",
       "      <td>BN.TRF.KOGT.CD</td>\n",
       "      <td>NaN</td>\n",
       "      <td>NaN</td>\n",
       "      <td>NaN</td>\n",
       "      <td>NaN</td>\n",
       "      <td>NaN</td>\n",
       "      <td>NaN</td>\n",
       "      <td>...</td>\n",
       "      <td>6.791581e+07</td>\n",
       "      <td>-5.972328e+08</td>\n",
       "      <td>9.618297e+08</td>\n",
       "      <td>-7.433364e+07</td>\n",
       "      <td>3.706943e+07</td>\n",
       "      <td>1.368359e+08</td>\n",
       "      <td>3.731153e+07</td>\n",
       "      <td>-1.231007e+08</td>\n",
       "      <td>-1.155591e+09</td>\n",
       "      <td>NaN</td>\n",
       "    </tr>\n",
       "    <tr>\n",
       "      <th>1437</th>\n",
       "      <td>India</td>\n",
       "      <td>IND</td>\n",
       "      <td>Travel services (% of service imports, BoP)</td>\n",
       "      <td>BM.GSR.TRVL.ZS</td>\n",
       "      <td>NaN</td>\n",
       "      <td>NaN</td>\n",
       "      <td>NaN</td>\n",
       "      <td>NaN</td>\n",
       "      <td>NaN</td>\n",
       "      <td>NaN</td>\n",
       "      <td>...</td>\n",
       "      <td>1.761773e+01</td>\n",
       "      <td>1.544257e+01</td>\n",
       "      <td>1.475397e+01</td>\n",
       "      <td>1.799216e+01</td>\n",
       "      <td>1.795378e+01</td>\n",
       "      <td>1.707263e+01</td>\n",
       "      <td>1.686302e+01</td>\n",
       "      <td>1.716750e+01</td>\n",
       "      <td>1.755462e+01</td>\n",
       "      <td>NaN</td>\n",
       "    </tr>\n",
       "    <tr>\n",
       "      <th>1438</th>\n",
       "      <td>India</td>\n",
       "      <td>IND</td>\n",
       "      <td>Cereal production (metric tons)</td>\n",
       "      <td>AG.PRD.CREL.MT</td>\n",
       "      <td>NaN</td>\n",
       "      <td>8.737650e+07</td>\n",
       "      <td>8.725755e+07</td>\n",
       "      <td>9.037301e+07</td>\n",
       "      <td>9.370600e+07</td>\n",
       "      <td>7.969950e+07</td>\n",
       "      <td>...</td>\n",
       "      <td>2.878600e+08</td>\n",
       "      <td>2.932900e+08</td>\n",
       "      <td>2.949095e+08</td>\n",
       "      <td>2.960100e+08</td>\n",
       "      <td>2.843330e+08</td>\n",
       "      <td>2.978500e+08</td>\n",
       "      <td>3.136100e+08</td>\n",
       "      <td>NaN</td>\n",
       "      <td>NaN</td>\n",
       "      <td>NaN</td>\n",
       "    </tr>\n",
       "    <tr>\n",
       "      <th>1439</th>\n",
       "      <td>India</td>\n",
       "      <td>IND</td>\n",
       "      <td>Arable land (% of land area)</td>\n",
       "      <td>AG.LND.ARBL.ZS</td>\n",
       "      <td>NaN</td>\n",
       "      <td>5.240365e+01</td>\n",
       "      <td>5.270433e+01</td>\n",
       "      <td>5.296332e+01</td>\n",
       "      <td>5.305144e+01</td>\n",
       "      <td>5.321422e+01</td>\n",
       "      <td>...</td>\n",
       "      <td>5.279817e+01</td>\n",
       "      <td>5.265254e+01</td>\n",
       "      <td>5.261756e+01</td>\n",
       "      <td>5.262462e+01</td>\n",
       "      <td>5.262462e+01</td>\n",
       "      <td>5.262462e+01</td>\n",
       "      <td>NaN</td>\n",
       "      <td>NaN</td>\n",
       "      <td>NaN</td>\n",
       "      <td>NaN</td>\n",
       "    </tr>\n",
       "  </tbody>\n",
       "</table>\n",
       "<p>1440 rows × 65 columns</p>\n",
       "</div>"
      ],
      "text/plain": [
       "     Country Name Country Code  \\\n",
       "0           India          IND   \n",
       "1           India          IND   \n",
       "2           India          IND   \n",
       "3           India          IND   \n",
       "4           India          IND   \n",
       "...           ...          ...   \n",
       "1435        India          IND   \n",
       "1436        India          IND   \n",
       "1437        India          IND   \n",
       "1438        India          IND   \n",
       "1439        India          IND   \n",
       "\n",
       "                                         Indicator Name        Indicator Code  \\\n",
       "0                       Export value index (2000 = 100)     TX.VAL.MRCH.XD.WD   \n",
       "1     Insurance and financial services (% of commerc...     TX.VAL.INSF.ZS.WT   \n",
       "2     Merchandise imports by the reporting economy, ...     TM.VAL.MRCH.RS.ZS   \n",
       "3               Food imports (% of merchandise imports)     TM.VAL.FOOD.ZS.UN   \n",
       "4     Share of tariff lines with international peaks...     TM.TAX.MRCH.IP.ZS   \n",
       "...                                                 ...                   ...   \n",
       "1435  Foreign direct investment, net inflows (% of GDP)  BX.KLT.DINV.WD.GD.ZS   \n",
       "1436             Net capital account (BoP, current US$)        BN.TRF.KOGT.CD   \n",
       "1437        Travel services (% of service imports, BoP)        BM.GSR.TRVL.ZS   \n",
       "1438                    Cereal production (metric tons)        AG.PRD.CREL.MT   \n",
       "1439                       Arable land (% of land area)        AG.LND.ARBL.ZS   \n",
       "\n",
       "          1960          1961          1962          1963          1964  \\\n",
       "0          NaN           NaN           NaN           NaN           NaN   \n",
       "1          NaN           NaN           NaN           NaN           NaN   \n",
       "2     4.983551  6.488050e+00  1.012461e+01  9.451370e+00  1.052948e+01   \n",
       "3          NaN           NaN  1.708001e+01  1.519791e+01  1.686304e+01   \n",
       "4          NaN           NaN           NaN           NaN           NaN   \n",
       "...        ...           ...           ...           ...           ...   \n",
       "1435       NaN           NaN           NaN           NaN           NaN   \n",
       "1436       NaN           NaN           NaN           NaN           NaN   \n",
       "1437       NaN           NaN           NaN           NaN           NaN   \n",
       "1438       NaN  8.737650e+07  8.725755e+07  9.037301e+07  9.370600e+07   \n",
       "1439       NaN  5.240365e+01  5.270433e+01  5.296332e+01  5.305144e+01   \n",
       "\n",
       "              1965  ...          2011          2012          2013  \\\n",
       "0              NaN  ...  7.147485e+02  7.004085e+02  7.429281e+02   \n",
       "1              NaN  ...  6.403614e+00  5.246771e+00  5.729495e+00   \n",
       "2     1.089112e+01  ...  7.550664e-01  2.738416e-01  4.409538e-01   \n",
       "3     2.200813e+01  ...  3.741041e+00  4.048246e+00  3.895215e+00   \n",
       "4              NaN  ...  8.434346e+00  8.641136e+00  8.576307e+00   \n",
       "...            ...  ...           ...           ...           ...   \n",
       "1435           NaN  ...  2.002065e+00  1.312934e+00  1.516276e+00   \n",
       "1436           NaN  ...  6.791581e+07 -5.972328e+08  9.618297e+08   \n",
       "1437           NaN  ...  1.761773e+01  1.544257e+01  1.475397e+01   \n",
       "1438  7.969950e+07  ...  2.878600e+08  2.932900e+08  2.949095e+08   \n",
       "1439  5.321422e+01  ...  5.279817e+01  5.265254e+01  5.261756e+01   \n",
       "\n",
       "              2014          2015          2016          2017          2018  \\\n",
       "0     7.614417e+02  6.322694e+02  6.242250e+02  7.061028e+02  7.663608e+02   \n",
       "1     5.060904e+00  4.706801e+00  4.471147e+00  3.760466e+00  3.921611e+00   \n",
       "2     1.514439e+00  2.228351e+00  2.270593e+00  1.770314e+00  5.354193e-01   \n",
       "3     4.458509e+00  5.758038e+00  6.505293e+00  6.137617e+00  4.156488e+00   \n",
       "4              NaN  5.802677e+00  7.707811e+00  8.288774e+00  9.111423e+00   \n",
       "...            ...           ...           ...           ...           ...   \n",
       "1435  1.695659e+00  2.092116e+00  1.937363e+00  1.506588e+00  1.552336e+00   \n",
       "1436 -7.433364e+07  3.706943e+07  1.368359e+08  3.731153e+07 -1.231007e+08   \n",
       "1437  1.799216e+01  1.795378e+01  1.707263e+01  1.686302e+01  1.716750e+01   \n",
       "1438  2.960100e+08  2.843330e+08  2.978500e+08  3.136100e+08           NaN   \n",
       "1439  5.262462e+01  5.262462e+01  5.262462e+01           NaN           NaN   \n",
       "\n",
       "              2019  2020  \n",
       "0              NaN   NaN  \n",
       "1     3.438072e+00   NaN  \n",
       "2              NaN   NaN  \n",
       "3     4.248261e+00   NaN  \n",
       "4              NaN   NaN  \n",
       "...            ...   ...  \n",
       "1435  1.760283e+00   NaN  \n",
       "1436 -1.155591e+09   NaN  \n",
       "1437  1.755462e+01   NaN  \n",
       "1438           NaN   NaN  \n",
       "1439           NaN   NaN  \n",
       "\n",
       "[1440 rows x 65 columns]"
      ]
     },
     "execution_count": 12,
     "metadata": {},
     "output_type": "execute_result"
    }
   ],
   "source": [
    "df"
   ]
  },
  {
   "cell_type": "markdown",
   "id": "1860e9e9",
   "metadata": {},
   "source": [
    "# Perform conditional selection to find - Population ages 15-64 (% of total population)"
   ]
  },
  {
   "cell_type": "code",
   "execution_count": 3,
   "id": "98ac5d15",
   "metadata": {},
   "outputs": [
    {
     "data": {
      "text/html": [
       "<div>\n",
       "<style scoped>\n",
       "    .dataframe tbody tr th:only-of-type {\n",
       "        vertical-align: middle;\n",
       "    }\n",
       "\n",
       "    .dataframe tbody tr th {\n",
       "        vertical-align: top;\n",
       "    }\n",
       "\n",
       "    .dataframe thead th {\n",
       "        text-align: right;\n",
       "    }\n",
       "</style>\n",
       "<table border=\"1\" class=\"dataframe\">\n",
       "  <thead>\n",
       "    <tr style=\"text-align: right;\">\n",
       "      <th></th>\n",
       "      <th>Country Name</th>\n",
       "      <th>Country Code</th>\n",
       "      <th>Indicator Name</th>\n",
       "      <th>Indicator Code</th>\n",
       "      <th>1960</th>\n",
       "      <th>1961</th>\n",
       "      <th>1962</th>\n",
       "      <th>1963</th>\n",
       "      <th>1964</th>\n",
       "      <th>1965</th>\n",
       "      <th>...</th>\n",
       "      <th>2011</th>\n",
       "      <th>2012</th>\n",
       "      <th>2013</th>\n",
       "      <th>2014</th>\n",
       "      <th>2015</th>\n",
       "      <th>2016</th>\n",
       "      <th>2017</th>\n",
       "      <th>2018</th>\n",
       "      <th>2019</th>\n",
       "      <th>2020</th>\n",
       "    </tr>\n",
       "  </thead>\n",
       "  <tbody>\n",
       "    <tr>\n",
       "      <th>9</th>\n",
       "      <td>India</td>\n",
       "      <td>IND</td>\n",
       "      <td>Population ages 15-64 (% of total population)</td>\n",
       "      <td>SP.POP.1564.TO.ZS</td>\n",
       "      <td>56.49748</td>\n",
       "      <td>56.177532</td>\n",
       "      <td>55.807455</td>\n",
       "      <td>55.461664</td>\n",
       "      <td>55.248939</td>\n",
       "      <td>55.211351</td>\n",
       "      <td>...</td>\n",
       "      <td>64.429404</td>\n",
       "      <td>64.805519</td>\n",
       "      <td>65.208489</td>\n",
       "      <td>65.59598</td>\n",
       "      <td>65.944164</td>\n",
       "      <td>66.274262</td>\n",
       "      <td>66.538187</td>\n",
       "      <td>66.766743</td>\n",
       "      <td>67.003811</td>\n",
       "      <td>NaN</td>\n",
       "    </tr>\n",
       "  </tbody>\n",
       "</table>\n",
       "<p>1 rows × 65 columns</p>\n",
       "</div>"
      ],
      "text/plain": [
       "  Country Name Country Code                                 Indicator Name  \\\n",
       "9        India          IND  Population ages 15-64 (% of total population)   \n",
       "\n",
       "      Indicator Code      1960       1961       1962       1963       1964  \\\n",
       "9  SP.POP.1564.TO.ZS  56.49748  56.177532  55.807455  55.461664  55.248939   \n",
       "\n",
       "        1965  ...       2011       2012       2013      2014       2015  \\\n",
       "9  55.211351  ...  64.429404  64.805519  65.208489  65.59598  65.944164   \n",
       "\n",
       "        2016       2017       2018       2019  2020  \n",
       "9  66.274262  66.538187  66.766743  67.003811   NaN  \n",
       "\n",
       "[1 rows x 65 columns]"
      ]
     },
     "execution_count": 3,
     "metadata": {},
     "output_type": "execute_result"
    }
   ],
   "source": [
    "data = df[df['Indicator Name']== 'Population ages 15-64 (% of total population)']\n",
    "data"
   ]
  },
  {
   "cell_type": "markdown",
   "id": "2cd9cfd0",
   "metadata": {},
   "source": [
    "# Divide the data into input and output"
   ]
  },
  {
   "cell_type": "code",
   "execution_count": 5,
   "id": "bbcbd176",
   "metadata": {},
   "outputs": [],
   "source": [
    "x = np.arange(1960, 2020).reshape(-1, 1)  \n",
    "y = data.values[0][4:-1]"
   ]
  },
  {
   "cell_type": "markdown",
   "id": "38780dac",
   "metadata": {},
   "source": [
    "# Plot scatter plot of Population ages 15-64 (% of total population)"
   ]
  },
  {
   "cell_type": "code",
   "execution_count": 6,
   "id": "463821f0",
   "metadata": {},
   "outputs": [
    {
     "data": {
      "text/plain": [
       "<matplotlib.collections.PathCollection at 0x190d18f4f50>"
      ]
     },
     "execution_count": 6,
     "metadata": {},
     "output_type": "execute_result"
    },
    {
     "data": {
      "image/png": "[encoded data removed]",
      "text/plain": [
       "<Figure size 640x480 with 1 Axes>"
      ]
     },
     "metadata": {},
     "output_type": "display_data"
    }
   ],
   "source": [
    "plt.scatter(x, y)"
   ]
  },
  {
   "cell_type": "markdown",
   "id": "b3ad4c9d",
   "metadata": {},
   "source": [
    "# Splitting the dataset into the Training set and Test set"
   ]
  },
  {
   "cell_type": "code",
   "execution_count": 7,
   "id": "fe47ef39",
   "metadata": {},
   "outputs": [],
   "source": [
    "X_train, X_test, y_train, y_test = train_test_split(x, y, test_size=0.3, random_state=7)\n"
   ]
  },
  {
   "cell_type": "code",
   "execution_count": 34,
   "id": "caf39a5c",
   "metadata": {},
   "outputs": [
    {
     "data": {
      "text/plain": [
       "array([[1960],\n",
       "       [1965],\n",
       "       [1996],\n",
       "       [2005],\n",
       "       [1973],\n",
       "       [2014],\n",
       "       [1993],\n",
       "       [2008],\n",
       "       [1972],\n",
       "       [2017],\n",
       "       [2006],\n",
       "       [2010],\n",
       "       [1991],\n",
       "       [1963],\n",
       "       [2012],\n",
       "       [1977],\n",
       "       [1968],\n",
       "       [1966]])"
      ]
     },
     "execution_count": 34,
     "metadata": {},
     "output_type": "execute_result"
    }
   ],
   "source": [
    "X_test"
   ]
  },
  {
   "cell_type": "code",
   "execution_count": 10,
   "id": "16a90e97",
   "metadata": {},
   "outputs": [
    {
     "data": {
      "text/plain": [
       "array([58.37403848, 57.1425581, 67.00381119, 56.62068516, 55.78194745,\n",
       "       62.173897, 59.012126, 56.44405309, 57.18105454, 58.22990246,\n",
       "       59.8572303, 62.52276485, 55.95268174, 56.07247186, 57.6545119,\n",
       "       56.78900152, 58.5472698, 56.17753236], dtype=object)"
      ]
     },
     "execution_count": 10,
     "metadata": {},
     "output_type": "execute_result"
    }
   ],
   "source": [
    "y_test"
   ]
  },
  {
   "cell_type": "code",
   "execution_count": 31,
   "id": "6d6577fb",
   "metadata": {},
   "outputs": [
    {
     "data": {
      "text/plain": [
       "array([[1976],\n",
       "       [1995],\n",
       "       [2003],\n",
       "       [1982],\n",
       "       [2015],\n",
       "       [2009],\n",
       "       [1989],\n",
       "       [2011],\n",
       "       [2000],\n",
       "       [1996],\n",
       "       [2010],\n",
       "       [1969],\n",
       "       [1993],\n",
       "       [1962],\n",
       "       [2001],\n",
       "       [1984],\n",
       "       [1965],\n",
       "       [2016],\n",
       "       [1966],\n",
       "       [1971],\n",
       "       [1960],\n",
       "       [1967],\n",
       "       [2018],\n",
       "       [1998],\n",
       "       [2012],\n",
       "       [2008],\n",
       "       [1986],\n",
       "       [2002],\n",
       "       [2006],\n",
       "       [2017],\n",
       "       [1968],\n",
       "       [2013],\n",
       "       [1974],\n",
       "       [1988],\n",
       "       [1999],\n",
       "       [1983],\n",
       "       [1979],\n",
       "       [1963],\n",
       "       [2014],\n",
       "       [1985],\n",
       "       [1964],\n",
       "       [2007]])"
      ]
     },
     "execution_count": 31,
     "metadata": {},
     "output_type": "execute_result"
    }
   ],
   "source": [
    "X_train"
   ]
  },
  {
   "cell_type": "code",
   "execution_count": 9,
   "id": "cb480fff",
   "metadata": {},
   "outputs": [
    {
     "data": {
      "text/plain": [
       "array([56.49722595, 59.31657719, 61.83084479, 57.22630775, 65.94416405,\n",
       "       63.74196691, 58.01501187, 64.429404, 60.90862046, 59.56507329,\n",
       "       64.10821053, 55.57014408, 58.75605047, 55.80745463, 61.18898716,\n",
       "       57.39054366, 55.21135053, 66.27426247, 55.09090078, 55.85676846,\n",
       "       56.49748004, 55.15534672, 66.7667425, 60.18600058, 64.80551944,\n",
       "       63.40924784, 57.55350984, 61.4993847, 62.80842981, 66.53818711,\n",
       "       55.34507283, 65.20848906, 56.23447551, 57.81875323, 60.53971518,\n",
       "       57.28875038, 56.9691436, 55.46166361, 65.5959799, 57.54142108,\n",
       "       55.24893881, 63.10261029], dtype=object)"
      ]
     },
     "execution_count": 9,
     "metadata": {},
     "output_type": "execute_result"
    }
   ],
   "source": [
    "y_train"
   ]
  },
  {
   "cell_type": "markdown",
   "id": "991c1d0e",
   "metadata": {},
   "source": [
    "# Fitting SVR on 3 Different Kernel on dataset"
   ]
  },
  {
   "cell_type": "code",
   "execution_count": 11,
   "id": "c8c88275",
   "metadata": {},
   "outputs": [],
   "source": [
    "model_lin = SVR(kernel='linear')"
   ]
  },
  {
   "cell_type": "code",
   "execution_count": 12,
   "id": "ed190af2",
   "metadata": {},
   "outputs": [],
   "source": [
    "model_poly = SVR(kernel='poly', C=1.0,epsilon=0.1,)"
   ]
  },
  {
   "cell_type": "code",
   "execution_count": 13,
   "id": "99e49e77",
   "metadata": {},
   "outputs": [],
   "source": [
    "model_rbf = SVR(kernel='rbf')"
   ]
  },
  {
   "cell_type": "code",
   "execution_count": 14,
   "id": "57ffaacf",
   "metadata": {},
   "outputs": [
    {
     "data": {
      "text/html": [
       "<style>#sk-container-id-1 {color: black;}#sk-container-id-1 pre{padding: 0;}#sk-container-id-1 div.sk-toggleable {background-color: white;}#sk-container-id-1 label.sk-toggleable__label {cursor: pointer;display: block;width: 100%;margin-bottom: 0;padding: 0.3em;box-sizing: border-box;text-align: center;}#sk-container-id-1 label.sk-toggleable__label-arrow:before {content: \"▸\";float: left;margin-right: 0.25em;color: #696969;}#sk-container-id-1 label.sk-toggleable__label-arrow:hover:before {color: black;}#sk-container-id-1 div.sk-estimator:hover label.sk-toggleable__label-arrow:before {color: black;}#sk-container-id-1 div.sk-toggleable__content {max-height: 0;max-width: 0;overflow: hidden;text-align: left;background-color: #f0f8ff;}#sk-container-id-1 div.sk-toggleable__content pre {margin: 0.2em;color: black;border-radius: 0.25em;background-color: #f0f8ff;}#sk-container-id-1 input.sk-toggleable__control:checked~div.sk-toggleable__content {max-height: 200px;max-width: 100%;overflow: auto;}#sk-container-id-1 input.sk-toggleable__control:checked~label.sk-toggleable__label-arrow:before {content: \"▾\";}#sk-container-id-1 div.sk-estimator input.sk-toggleable__control:checked~label.sk-toggleable__label {background-color: #d4ebff;}#sk-container-id-1 div.sk-label input.sk-toggleable__control:checked~label.sk-toggleable__label {background-color: #d4ebff;}#sk-container-id-1 input.sk-hidden--visually {border: 0;clip: rect(1px 1px 1px 1px);clip: rect(1px, 1px, 1px, 1px);height: 1px;margin: -1px;overflow: hidden;padding: 0;position: absolute;width: 1px;}#sk-container-id-1 div.sk-estimator {font-family: monospace;background-color: #f0f8ff;border: 1px dotted black;border-radius: 0.25em;box-sizing: border-box;margin-bottom: 0.5em;}#sk-container-id-1 div.sk-estimator:hover {background-color: #d4ebff;}#sk-container-id-1 div.sk-parallel-item::after {content: \"\";width: 100%;border-bottom: 1px solid gray;flex-grow: 1;}#sk-container-id-1 div.sk-label:hover label.sk-toggleable__label {background-color: #d4ebff;}#sk-container-id-1 div.sk-serial::before {content: \"\";position: absolute;border-left: 1px solid gray;box-sizing: border-box;top: 0;bottom: 0;left: 50%;z-index: 0;}#sk-container-id-1 div.sk-serial {display: flex;flex-direction: column;align-items: center;background-color: white;padding-right: 0.2em;padding-left: 0.2em;position: relative;}#sk-container-id-1 div.sk-item {position: relative;z-index: 1;}#sk-container-id-1 div.sk-parallel {display: flex;align-items: stretch;justify-content: center;background-color: white;position: relative;}#sk-container-id-1 div.sk-item::before, #sk-container-id-1 div.sk-parallel-item::before {content: \"\";position: absolute;border-left: 1px solid gray;box-sizing: border-box;top: 0;bottom: 0;left: 50%;z-index: -1;}#sk-container-id-1 div.sk-parallel-item {display: flex;flex-direction: column;z-index: 1;position: relative;background-color: white;}#sk-container-id-1 div.sk-parallel-item:first-child::after {align-self: flex-end;width: 50%;}#sk-container-id-1 div.sk-parallel-item:last-child::after {align-self: flex-start;width: 50%;}#sk-container-id-1 div.sk-parallel-item:only-child::after {width: 0;}#sk-container-id-1 div.sk-dashed-wrapped {border: 1px dashed gray;margin: 0 0.4em 0.5em 0.4em;box-sizing: border-box;padding-bottom: 0.4em;background-color: white;}#sk-container-id-1 div.sk-label label {font-family: monospace;font-weight: bold;display: inline-block;line-height: 1.2em;}#sk-container-id-1 div.sk-label-container {text-align: center;}#sk-container-id-1 div.sk-container {/* jupyter's `normalize.less` sets `[hidden] { display: none; }` but bootstrap.min.css set `[hidden] { display: none !important; }` so we also need the `!important` here to be able to override the default hidden behavior on the sphinx rendered scikit-learn.org. See: https://github.com/scikit-learn/scikit-learn/issues/21755 */display: inline-block !important;position: relative;}#sk-container-id-1 div.sk-text-repr-fallback {display: none;}</style><div id=\"sk-container-id-1\" class=\"sk-top-container\"><div class=\"sk-text-repr-fallback\"><pre>SVR(kernel=&#x27;linear&#x27;)</pre><b>In a Jupyter environment, please rerun this cell to show the HTML representation or trust the notebook. <br />On GitHub, the HTML representation is unable to render, please try loading this page with nbviewer.org.</b></div><div class=\"sk-container\" hidden><div class=\"sk-item\"><div class=\"sk-estimator sk-toggleable\"><input class=\"sk-toggleable__control sk-hidden--visually\" id=\"sk-estimator-id-1\" type=\"checkbox\" checked><label for=\"sk-estimator-id-1\" class=\"sk-toggleable__label sk-toggleable__label-arrow\">SVR</label><div class=\"sk-toggleable__content\"><pre>SVR(kernel=&#x27;linear&#x27;)</pre></div></div></div></div></div>"
      ],
      "text/plain": [
       "SVR(kernel='linear')"
      ]
     },
     "execution_count": 14,
     "metadata": {},
     "output_type": "execute_result"
    }
   ],
   "source": [
    "model_lin.fit(X_train, y_train)"
   ]
  },
  {
   "cell_type": "code",
   "execution_count": 17,
   "id": "b676b60b",
   "metadata": {},
   "outputs": [
    {
     "data": {
      "text/html": [
       "<style>#sk-container-id-4 {color: black;}#sk-container-id-4 pre{padding: 0;}#sk-container-id-4 div.sk-toggleable {background-color: white;}#sk-container-id-4 label.sk-toggleable__label {cursor: pointer;display: block;width: 100%;margin-bottom: 0;padding: 0.3em;box-sizing: border-box;text-align: center;}#sk-container-id-4 label.sk-toggleable__label-arrow:before {content: \"▸\";float: left;margin-right: 0.25em;color: #696969;}#sk-container-id-4 label.sk-toggleable__label-arrow:hover:before {color: black;}#sk-container-id-4 div.sk-estimator:hover label.sk-toggleable__label-arrow:before {color: black;}#sk-container-id-4 div.sk-toggleable__content {max-height: 0;max-width: 0;overflow: hidden;text-align: left;background-color: #f0f8ff;}#sk-container-id-4 div.sk-toggleable__content pre {margin: 0.2em;color: black;border-radius: 0.25em;background-color: #f0f8ff;}#sk-container-id-4 input.sk-toggleable__control:checked~div.sk-toggleable__content {max-height: 200px;max-width: 100%;overflow: auto;}#sk-container-id-4 input.sk-toggleable__control:checked~label.sk-toggleable__label-arrow:before {content: \"▾\";}#sk-container-id-4 div.sk-estimator input.sk-toggleable__control:checked~label.sk-toggleable__label {background-color: #d4ebff;}#sk-container-id-4 div.sk-label input.sk-toggleable__control:checked~label.sk-toggleable__label {background-color: #d4ebff;}#sk-container-id-4 input.sk-hidden--visually {border: 0;clip: rect(1px 1px 1px 1px);clip: rect(1px, 1px, 1px, 1px);height: 1px;margin: -1px;overflow: hidden;padding: 0;position: absolute;width: 1px;}#sk-container-id-4 div.sk-estimator {font-family: monospace;background-color: #f0f8ff;border: 1px dotted black;border-radius: 0.25em;box-sizing: border-box;margin-bottom: 0.5em;}#sk-container-id-4 div.sk-estimator:hover {background-color: #d4ebff;}#sk-container-id-4 div.sk-parallel-item::after {content: \"\";width: 100%;border-bottom: 1px solid gray;flex-grow: 1;}#sk-container-id-4 div.sk-label:hover label.sk-toggleable__label {background-color: #d4ebff;}#sk-container-id-4 div.sk-serial::before {content: \"\";position: absolute;border-left: 1px solid gray;box-sizing: border-box;top: 0;bottom: 0;left: 50%;z-index: 0;}#sk-container-id-4 div.sk-serial {display: flex;flex-direction: column;align-items: center;background-color: white;padding-right: 0.2em;padding-left: 0.2em;position: relative;}#sk-container-id-4 div.sk-item {position: relative;z-index: 1;}#sk-container-id-4 div.sk-parallel {display: flex;align-items: stretch;justify-content: center;background-color: white;position: relative;}#sk-container-id-4 div.sk-item::before, #sk-container-id-4 div.sk-parallel-item::before {content: \"\";position: absolute;border-left: 1px solid gray;box-sizing: border-box;top: 0;bottom: 0;left: 50%;z-index: -1;}#sk-container-id-4 div.sk-parallel-item {display: flex;flex-direction: column;z-index: 1;position: relative;background-color: white;}#sk-container-id-4 div.sk-parallel-item:first-child::after {align-self: flex-end;width: 50%;}#sk-container-id-4 div.sk-parallel-item:last-child::after {align-self: flex-start;width: 50%;}#sk-container-id-4 div.sk-parallel-item:only-child::after {width: 0;}#sk-container-id-4 div.sk-dashed-wrapped {border: 1px dashed gray;margin: 0 0.4em 0.5em 0.4em;box-sizing: border-box;padding-bottom: 0.4em;background-color: white;}#sk-container-id-4 div.sk-label label {font-family: monospace;font-weight: bold;display: inline-block;line-height: 1.2em;}#sk-container-id-4 div.sk-label-container {text-align: center;}#sk-container-id-4 div.sk-container {/* jupyter's `normalize.less` sets `[hidden] { display: none; }` but bootstrap.min.css set `[hidden] { display: none !important; }` so we also need the `!important` here to be able to override the default hidden behavior on the sphinx rendered scikit-learn.org. See: https://github.com/scikit-learn/scikit-learn/issues/21755 */display: inline-block !important;position: relative;}#sk-container-id-4 div.sk-text-repr-fallback {display: none;}</style><div id=\"sk-container-id-4\" class=\"sk-top-container\"><div class=\"sk-text-repr-fallback\"><pre>SVR(kernel=&#x27;poly&#x27;)</pre><b>In a Jupyter environment, please rerun this cell to show the HTML representation or trust the notebook. <br />On GitHub, the HTML representation is unable to render, please try loading this page with nbviewer.org.</b></div><div class=\"sk-container\" hidden><div class=\"sk-item\"><div class=\"sk-estimator sk-toggleable\"><input class=\"sk-toggleable__control sk-hidden--visually\" id=\"sk-estimator-id-4\" type=\"checkbox\" checked><label for=\"sk-estimator-id-4\" class=\"sk-toggleable__label sk-toggleable__label-arrow\">SVR</label><div class=\"sk-toggleable__content\"><pre>SVR(kernel=&#x27;poly&#x27;)</pre></div></div></div></div></div>"
      ],
      "text/plain": [
       "SVR(kernel='poly')"
      ]
     },
     "execution_count": 17,
     "metadata": {},
     "output_type": "execute_result"
    }
   ],
   "source": [
    "model_poly.fit(X_train, y_train)"
   ]
  },
  {
   "cell_type": "code",
   "execution_count": 18,
   "id": "703863e8",
   "metadata": {},
   "outputs": [
    {
     "data": {
      "text/html": [
       "<style>#sk-container-id-5 {color: black;}#sk-container-id-5 pre{padding: 0;}#sk-container-id-5 div.sk-toggleable {background-color: white;}#sk-container-id-5 label.sk-toggleable__label {cursor: pointer;display: block;width: 100%;margin-bottom: 0;padding: 0.3em;box-sizing: border-box;text-align: center;}#sk-container-id-5 label.sk-toggleable__label-arrow:before {content: \"▸\";float: left;margin-right: 0.25em;color: #696969;}#sk-container-id-5 label.sk-toggleable__label-arrow:hover:before {color: black;}#sk-container-id-5 div.sk-estimator:hover label.sk-toggleable__label-arrow:before {color: black;}#sk-container-id-5 div.sk-toggleable__content {max-height: 0;max-width: 0;overflow: hidden;text-align: left;background-color: #f0f8ff;}#sk-container-id-5 div.sk-toggleable__content pre {margin: 0.2em;color: black;border-radius: 0.25em;background-color: #f0f8ff;}#sk-container-id-5 input.sk-toggleable__control:checked~div.sk-toggleable__content {max-height: 200px;max-width: 100%;overflow: auto;}#sk-container-id-5 input.sk-toggleable__control:checked~label.sk-toggleable__label-arrow:before {content: \"▾\";}#sk-container-id-5 div.sk-estimator input.sk-toggleable__control:checked~label.sk-toggleable__label {background-color: #d4ebff;}#sk-container-id-5 div.sk-label input.sk-toggleable__control:checked~label.sk-toggleable__label {background-color: #d4ebff;}#sk-container-id-5 input.sk-hidden--visually {border: 0;clip: rect(1px 1px 1px 1px);clip: rect(1px, 1px, 1px, 1px);height: 1px;margin: -1px;overflow: hidden;padding: 0;position: absolute;width: 1px;}#sk-container-id-5 div.sk-estimator {font-family: monospace;background-color: #f0f8ff;border: 1px dotted black;border-radius: 0.25em;box-sizing: border-box;margin-bottom: 0.5em;}#sk-container-id-5 div.sk-estimator:hover {background-color: #d4ebff;}#sk-container-id-5 div.sk-parallel-item::after {content: \"\";width: 100%;border-bottom: 1px solid gray;flex-grow: 1;}#sk-container-id-5 div.sk-label:hover label.sk-toggleable__label {background-color: #d4ebff;}#sk-container-id-5 div.sk-serial::before {content: \"\";position: absolute;border-left: 1px solid gray;box-sizing: border-box;top: 0;bottom: 0;left: 50%;z-index: 0;}#sk-container-id-5 div.sk-serial {display: flex;flex-direction: column;align-items: center;background-color: white;padding-right: 0.2em;padding-left: 0.2em;position: relative;}#sk-container-id-5 div.sk-item {position: relative;z-index: 1;}#sk-container-id-5 div.sk-parallel {display: flex;align-items: stretch;justify-content: center;background-color: white;position: relative;}#sk-container-id-5 div.sk-item::before, #sk-container-id-5 div.sk-parallel-item::before {content: \"\";position: absolute;border-left: 1px solid gray;box-sizing: border-box;top: 0;bottom: 0;left: 50%;z-index: -1;}#sk-container-id-5 div.sk-parallel-item {display: flex;flex-direction: column;z-index: 1;position: relative;background-color: white;}#sk-container-id-5 div.sk-parallel-item:first-child::after {align-self: flex-end;width: 50%;}#sk-container-id-5 div.sk-parallel-item:last-child::after {align-self: flex-start;width: 50%;}#sk-container-id-5 div.sk-parallel-item:only-child::after {width: 0;}#sk-container-id-5 div.sk-dashed-wrapped {border: 1px dashed gray;margin: 0 0.4em 0.5em 0.4em;box-sizing: border-box;padding-bottom: 0.4em;background-color: white;}#sk-container-id-5 div.sk-label label {font-family: monospace;font-weight: bold;display: inline-block;line-height: 1.2em;}#sk-container-id-5 div.sk-label-container {text-align: center;}#sk-container-id-5 div.sk-container {/* jupyter's `normalize.less` sets `[hidden] { display: none; }` but bootstrap.min.css set `[hidden] { display: none !important; }` so we also need the `!important` here to be able to override the default hidden behavior on the sphinx rendered scikit-learn.org. See: https://github.com/scikit-learn/scikit-learn/issues/21755 */display: inline-block !important;position: relative;}#sk-container-id-5 div.sk-text-repr-fallback {display: none;}</style><div id=\"sk-container-id-5\" class=\"sk-top-container\"><div class=\"sk-text-repr-fallback\"><pre>SVR()</pre><b>In a Jupyter environment, please rerun this cell to show the HTML representation or trust the notebook. <br />On GitHub, the HTML representation is unable to render, please try loading this page with nbviewer.org.</b></div><div class=\"sk-container\" hidden><div class=\"sk-item\"><div class=\"sk-estimator sk-toggleable\"><input class=\"sk-toggleable__control sk-hidden--visually\" id=\"sk-estimator-id-5\" type=\"checkbox\" checked><label for=\"sk-estimator-id-5\" class=\"sk-toggleable__label sk-toggleable__label-arrow\">SVR</label><div class=\"sk-toggleable__content\"><pre>SVR()</pre></div></div></div></div></div>"
      ],
      "text/plain": [
       "SVR()"
      ]
     },
     "execution_count": 18,
     "metadata": {},
     "output_type": "execute_result"
    }
   ],
   "source": [
    "model_rbf.fit(X_train, y_train)"
   ]
  },
  {
   "cell_type": "markdown",
   "id": "133e9b43",
   "metadata": {},
   "source": [
    "# Predict the x_test using 3 Kernel"
   ]
  },
  {
   "cell_type": "code",
   "execution_count": 19,
   "id": "60cdc2f6",
   "metadata": {},
   "outputs": [],
   "source": [
    "y_predict_lin = model_lin.predict(x)\n",
    "y_predict_model = model_poly.predict(x)\n",
    "y_predict_rbf = model_rbf.predict(x)"
   ]
  },
  {
   "cell_type": "markdown",
   "id": "884c7829",
   "metadata": {},
   "source": [
    "# Visualising the  results"
   ]
  },
  {
   "cell_type": "code",
   "execution_count": 20,
   "id": "edc6aa95",
   "metadata": {},
   "outputs": [
    {
     "data": {
      "text/plain": [
       "array([58.37403848, 57.1425581, 67.00381119, 56.62068516, 55.78194745,\n",
       "       62.173897, 59.012126, 56.44405309, 57.18105454, 58.22990246,\n",
       "       59.8572303, 62.52276485, 55.95268174, 56.07247186, 57.6545119,\n",
       "       56.78900152, 58.5472698, 56.17753236], dtype=object)"
      ]
     },
     "execution_count": 20,
     "metadata": {},
     "output_type": "execute_result"
    }
   ],
   "source": [
    "y_test"
   ]
  },
  {
   "cell_type": "code",
   "execution_count": 21,
   "id": "6fc58c44",
   "metadata": {},
   "outputs": [
    {
     "data": {
      "text/plain": [
       "array([53.50910346, 53.71343665, 53.91776983, 54.12210301, 54.32643619,\n",
       "       54.53076937, 54.73510255, 54.93943573, 55.14376892, 55.3481021 ,\n",
       "       55.55243528, 55.75676846, 55.96110164, 56.16543482, 56.36976801,\n",
       "       56.57410119, 56.77843437, 56.98276755, 57.18710073, 57.39143391,\n",
       "       57.59576709, 57.80010027, 58.00443346, 58.20876664, 58.41309982,\n",
       "       58.617433  , 58.82176618, 59.02609936, 59.23043254, 59.43476573,\n",
       "       59.63909891, 59.84343209, 60.04776527, 60.25209845, 60.45643163,\n",
       "       60.66076481, 60.865098  , 61.06943118, 61.27376436, 61.47809754,\n",
       "       61.68243072, 61.8867639 , 62.09109708, 62.29543027, 62.49976345,\n",
       "       62.70409663, 62.90842981, 63.11276299, 63.31709617, 63.52142935,\n",
       "       63.72576254, 63.93009572, 64.1344289 , 64.33876208, 64.54309526,\n",
       "       64.74742844, 64.95176163, 65.1560948 , 65.36042799, 65.56476117])"
      ]
     },
     "execution_count": 21,
     "metadata": {},
     "output_type": "execute_result"
    }
   ],
   "source": [
    "y_predict_lin\n"
   ]
  },
  {
   "cell_type": "code",
   "execution_count": 22,
   "id": "dfdad2af",
   "metadata": {},
   "outputs": [
    {
     "data": {
      "image/png": "[encoded data removed]",
      "text/plain": [
       "<Figure size 640x480 with 1 Axes>"
      ]
     },
     "metadata": {},
     "output_type": "display_data"
    }
   ],
   "source": [
    "plt.scatter(x, y,label='Actual Data')\n",
    "plt.scatter(x, y_predict_lin, label='Linear Kernel')\n",
    "plt.scatter(x, y_predict_rbf, label='RBF Kernel')\n",
    "plt.title('SVR Results')\n",
    "plt.xlabel('Year')\n",
    "plt.ylabel('Population ages 15-64 (% of total population)')\n",
    "plt.legend()\n",
    "plt.show()"
   ]
  },
  {
   "cell_type": "markdown",
   "id": "17f7c8bb",
   "metadata": {},
   "source": [
    "# Decision Tree Classifier"
   ]
  },
  {
   "cell_type": "code",
   "execution_count": 23,
   "id": "c8478e9b",
   "metadata": {},
   "outputs": [],
   "source": [
    "# Visualising the  resultsfrom sklearn.datasets import load_iris"
   ]
  },
  {
   "cell_type": "markdown",
   "id": "b8871bc5",
   "metadata": {},
   "source": [
    "# Import iris data ser using sklearn"
   ]
  },
  {
   "cell_type": "code",
   "execution_count": 24,
   "id": "3d12450f",
   "metadata": {},
   "outputs": [],
   "source": [
    "from sklearn.datasets import load_iris"
   ]
  },
  {
   "cell_type": "markdown",
   "id": "f4706b18",
   "metadata": {},
   "source": [
    "# Importing the libraries"
   ]
  },
  {
   "cell_type": "code",
   "execution_count": 25,
   "id": "eb403699",
   "metadata": {},
   "outputs": [],
   "source": [
    "from sklearn.tree import DecisionTreeClassifier\n",
    "from sklearn.model_selection import train_test_split\n",
    "from sklearn.metrics import accuracy_score\n",
    "from sklearn import tree"
   ]
  },
  {
   "cell_type": "markdown",
   "id": "29f83e81",
   "metadata": {},
   "source": [
    "# Divide the data into input and output"
   ]
  },
  {
   "cell_type": "code",
   "execution_count": 29,
   "id": "f251cd08",
   "metadata": {},
   "outputs": [],
   "source": [
    "data = load_iris()\n"
   ]
  },
  {
   "cell_type": "code",
   "execution_count": 30,
   "id": "d990dbfe",
   "metadata": {},
   "outputs": [],
   "source": [
    "x=data.data"
   ]
  },
  {
   "cell_type": "code",
   "execution_count": 32,
   "id": "4aa6cda5",
   "metadata": {},
   "outputs": [],
   "source": [
    "y=data.target"
   ]
  },
  {
   "cell_type": "markdown",
   "id": "cb928fc3",
   "metadata": {},
   "source": [
    "# Splitting the dataset into the Training set and Test set"
   ]
  },
  {
   "cell_type": "code",
   "execution_count": 33,
   "id": "2be76de0",
   "metadata": {},
   "outputs": [],
   "source": [
    "X_train, X_test, y_train, y_test = train_test_split(x, y, test_size=0.3, random_state=45)"
   ]
  },
  {
   "cell_type": "markdown",
   "id": "f5cbc515",
   "metadata": {},
   "source": [
    "# Fitting DecisionTreeClassifier on dataset"
   ]
  },
  {
   "cell_type": "code",
   "execution_count": 37,
   "id": "ed6eb1b0",
   "metadata": {},
   "outputs": [],
   "source": [
    "model = DecisionTreeClassifier()"
   ]
  },
  {
   "cell_type": "code",
   "execution_count": 38,
   "id": "3fc84403",
   "metadata": {},
   "outputs": [],
   "source": [
    "t = model.fit(X_train, y_train)"
   ]
  },
  {
   "cell_type": "markdown",
   "id": "0d476f63",
   "metadata": {},
   "source": [
    "# Display Decision Tree"
   ]
  },
  {
   "cell_type": "code",
   "execution_count": 39,
   "id": "6e51953e",
   "metadata": {},
   "outputs": [
    {
     "data": {
      "text/plain": [
       "[Text(0.3181818181818182, 0.9166666666666666, 'x[2] <= 2.45\\ngini = 0.666\\nsamples = 105\\nvalue = [33, 37, 35]'),\n",
       " Text(0.22727272727272727, 0.75, 'gini = 0.0\\nsamples = 33\\nvalue = [33, 0, 0]'),\n",
       " Text(0.4090909090909091, 0.75, 'x[3] <= 1.65\\ngini = 0.5\\nsamples = 72\\nvalue = [0, 37, 35]'),\n",
       " Text(0.18181818181818182, 0.5833333333333334, 'x[2] <= 5.35\\ngini = 0.054\\nsamples = 36\\nvalue = [0, 35, 1]'),\n",
       " Text(0.09090909090909091, 0.4166666666666667, 'gini = 0.0\\nsamples = 35\\nvalue = [0, 35, 0]'),\n",
       " Text(0.2727272727272727, 0.4166666666666667, 'gini = 0.0\\nsamples = 1\\nvalue = [0, 0, 1]'),\n",
       " Text(0.6363636363636364, 0.5833333333333334, 'x[3] <= 1.75\\ngini = 0.105\\nsamples = 36\\nvalue = [0, 2, 34]'),\n",
       " Text(0.45454545454545453, 0.4166666666666667, 'x[0] <= 5.8\\ngini = 0.5\\nsamples = 2\\nvalue = [0, 1, 1]'),\n",
       " Text(0.36363636363636365, 0.25, 'gini = 0.0\\nsamples = 1\\nvalue = [0, 0, 1]'),\n",
       " Text(0.5454545454545454, 0.25, 'gini = 0.0\\nsamples = 1\\nvalue = [0, 1, 0]'),\n",
       " Text(0.8181818181818182, 0.4166666666666667, 'x[2] <= 4.85\\ngini = 0.057\\nsamples = 34\\nvalue = [0, 1, 33]'),\n",
       " Text(0.7272727272727273, 0.25, 'x[1] <= 3.1\\ngini = 0.444\\nsamples = 3\\nvalue = [0, 1, 2]'),\n",
       " Text(0.6363636363636364, 0.08333333333333333, 'gini = 0.0\\nsamples = 2\\nvalue = [0, 0, 2]'),\n",
       " Text(0.8181818181818182, 0.08333333333333333, 'gini = 0.0\\nsamples = 1\\nvalue = [0, 1, 0]'),\n",
       " Text(0.9090909090909091, 0.25, 'gini = 0.0\\nsamples = 31\\nvalue = [0, 0, 31]')]"
      ]
     },
     "execution_count": 39,
     "metadata": {},
     "output_type": "execute_result"
    },
    {
     "data": {
      "image/png": "[encoded data removed]",
      "text/plain": [
       "<Figure size 640x480 with 1 Axes>"
      ]
     },
     "metadata": {},
     "output_type": "display_data"
    }
   ],
   "source": [
    "tree.plot_tree(t)"
   ]
  },
  {
   "cell_type": "markdown",
   "id": "b42d5cd8",
   "metadata": {},
   "source": [
    "# Predict the x_test "
   ]
  },
  {
   "cell_type": "code",
   "execution_count": 40,
   "id": "a166ed56",
   "metadata": {},
   "outputs": [],
   "source": [
    "y_predict = model.predict(X_test)"
   ]
  },
  {
   "cell_type": "code",
   "execution_count": 41,
   "id": "8f634bc9",
   "metadata": {},
   "outputs": [
    {
     "data": {
      "text/plain": [
       "0.9555555555555556"
      ]
     },
     "execution_count": 41,
     "metadata": {},
     "output_type": "execute_result"
    }
   ],
   "source": [
    "accuracy_score(y_test, y_predict)"
   ]
  }
 ],
 "metadata": {
  "kernelspec": {
   "display_name": "Python 3 (ipykernel)",
   "language": "python",
   "name": "python3"
  },
  "language_info": {
   "codemirror_mode": {
    "name": "ipython",
    "version": 3
   },
   "file_extension": ".py",
   "mimetype": "text/x-python",
   "name": "python",
   "nbconvert_exporter": "python",
   "pygments_lexer": "ipython3",
   "version": "3.11.7"
  }
 },
 "nbformat": 4,
 "nbformat_minor": 5
}
