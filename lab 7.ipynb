{
 "cells": [
  {
   "cell_type": "markdown",
   "id": "c06efe55-5ba3-4232-9b79-4b09340e5584",
   "metadata": {},
   "source": [
    "# Importing the libraries"
   ]
  },
  {
   "cell_type": "code",
   "execution_count": 1,
   "id": "6bf0d77b-ddf5-4276-87cd-8bb876646699",
   "metadata": {},
   "outputs": [],
   "source": [
    "import pandas as pd\n",
    "import matplotlib.pyplot as plt\n",
    "import pandas as pd\n",
    "from sklearn.model_selection import train_test_split\n",
    "from sklearn.svm import SVR\n",
    "import numpy as np\n"
   ]
  },
  {
   "cell_type": "markdown",
   "id": "6e79c3df-f0d7-49da-9265-f0e9eda53936",
   "metadata": {},
   "source": [
    "# Read diabetes CSV"
   ]
  },
  {
   "cell_type": "code",
   "execution_count": 5,
   "id": "9f134c0a-42fd-450d-9bba-7ea1a82eda14",
   "metadata": {},
   "outputs": [],
   "source": [
    "df = pd.read_csv('diabetes.csv')"
   ]
  },
  {
   "cell_type": "code",
   "execution_count": 4,
   "id": "57d3c69a-201f-4435-bead-dae5ff72b64f",
   "metadata": {},
   "outputs": [
    {
     "data": {
      "text/html": [
       "<div>\n",
       "<style scoped>\n",
       "    .dataframe tbody tr th:only-of-type {\n",
       "        vertical-align: middle;\n",
       "    }\n",
       "\n",
       "    .dataframe tbody tr th {\n",
       "        vertical-align: top;\n",
       "    }\n",
       "\n",
       "    .dataframe thead th {\n",
       "        text-align: right;\n",
       "    }\n",
       "</style>\n",
       "<table border=\"1\" class=\"dataframe\">\n",
       "  <thead>\n",
       "    <tr style=\"text-align: right;\">\n",
       "      <th></th>\n",
       "      <th>Pregnancies</th>\n",
       "      <th>Glucose</th>\n",
       "      <th>BloodPressure</th>\n",
       "      <th>SkinThickness</th>\n",
       "      <th>Insulin</th>\n",
       "      <th>BMI</th>\n",
       "      <th>DiabetesPedigreeFunction</th>\n",
       "      <th>Age</th>\n",
       "      <th>Outcome</th>\n",
       "    </tr>\n",
       "  </thead>\n",
       "  <tbody>\n",
       "    <tr>\n",
       "      <th>0</th>\n",
       "      <td>6</td>\n",
       "      <td>148</td>\n",
       "      <td>72</td>\n",
       "      <td>35</td>\n",
       "      <td>0</td>\n",
       "      <td>33.6</td>\n",
       "      <td>0.627</td>\n",
       "      <td>50</td>\n",
       "      <td>Diabetic</td>\n",
       "    </tr>\n",
       "    <tr>\n",
       "      <th>1</th>\n",
       "      <td>1</td>\n",
       "      <td>85</td>\n",
       "      <td>66</td>\n",
       "      <td>29</td>\n",
       "      <td>0</td>\n",
       "      <td>26.6</td>\n",
       "      <td>0.351</td>\n",
       "      <td>31</td>\n",
       "      <td>Non Diabetic</td>\n",
       "    </tr>\n",
       "    <tr>\n",
       "      <th>2</th>\n",
       "      <td>8</td>\n",
       "      <td>183</td>\n",
       "      <td>64</td>\n",
       "      <td>0</td>\n",
       "      <td>0</td>\n",
       "      <td>23.3</td>\n",
       "      <td>0.672</td>\n",
       "      <td>32</td>\n",
       "      <td>Diabetic</td>\n",
       "    </tr>\n",
       "    <tr>\n",
       "      <th>3</th>\n",
       "      <td>1</td>\n",
       "      <td>89</td>\n",
       "      <td>66</td>\n",
       "      <td>23</td>\n",
       "      <td>94</td>\n",
       "      <td>28.1</td>\n",
       "      <td>0.167</td>\n",
       "      <td>21</td>\n",
       "      <td>Non Diabetic</td>\n",
       "    </tr>\n",
       "    <tr>\n",
       "      <th>4</th>\n",
       "      <td>0</td>\n",
       "      <td>137</td>\n",
       "      <td>40</td>\n",
       "      <td>35</td>\n",
       "      <td>168</td>\n",
       "      <td>43.1</td>\n",
       "      <td>2.288</td>\n",
       "      <td>33</td>\n",
       "      <td>Diabetic</td>\n",
       "    </tr>\n",
       "    <tr>\n",
       "      <th>...</th>\n",
       "      <td>...</td>\n",
       "      <td>...</td>\n",
       "      <td>...</td>\n",
       "      <td>...</td>\n",
       "      <td>...</td>\n",
       "      <td>...</td>\n",
       "      <td>...</td>\n",
       "      <td>...</td>\n",
       "      <td>...</td>\n",
       "    </tr>\n",
       "    <tr>\n",
       "      <th>763</th>\n",
       "      <td>10</td>\n",
       "      <td>101</td>\n",
       "      <td>76</td>\n",
       "      <td>48</td>\n",
       "      <td>180</td>\n",
       "      <td>32.9</td>\n",
       "      <td>0.171</td>\n",
       "      <td>63</td>\n",
       "      <td>Non Diabetic</td>\n",
       "    </tr>\n",
       "    <tr>\n",
       "      <th>764</th>\n",
       "      <td>2</td>\n",
       "      <td>122</td>\n",
       "      <td>70</td>\n",
       "      <td>27</td>\n",
       "      <td>0</td>\n",
       "      <td>36.8</td>\n",
       "      <td>0.340</td>\n",
       "      <td>27</td>\n",
       "      <td>Non Diabetic</td>\n",
       "    </tr>\n",
       "    <tr>\n",
       "      <th>765</th>\n",
       "      <td>5</td>\n",
       "      <td>121</td>\n",
       "      <td>72</td>\n",
       "      <td>23</td>\n",
       "      <td>112</td>\n",
       "      <td>26.2</td>\n",
       "      <td>0.245</td>\n",
       "      <td>30</td>\n",
       "      <td>Non Diabetic</td>\n",
       "    </tr>\n",
       "    <tr>\n",
       "      <th>766</th>\n",
       "      <td>1</td>\n",
       "      <td>126</td>\n",
       "      <td>60</td>\n",
       "      <td>0</td>\n",
       "      <td>0</td>\n",
       "      <td>30.1</td>\n",
       "      <td>0.349</td>\n",
       "      <td>47</td>\n",
       "      <td>Diabetic</td>\n",
       "    </tr>\n",
       "    <tr>\n",
       "      <th>767</th>\n",
       "      <td>1</td>\n",
       "      <td>93</td>\n",
       "      <td>70</td>\n",
       "      <td>31</td>\n",
       "      <td>0</td>\n",
       "      <td>30.4</td>\n",
       "      <td>0.315</td>\n",
       "      <td>23</td>\n",
       "      <td>Non Diabetic</td>\n",
       "    </tr>\n",
       "  </tbody>\n",
       "</table>\n",
       "<p>768 rows × 9 columns</p>\n",
       "</div>"
      ],
      "text/plain": [
       "     Pregnancies  Glucose  BloodPressure  SkinThickness  Insulin   BMI  \\\n",
       "0              6      148             72             35        0  33.6   \n",
       "1              1       85             66             29        0  26.6   \n",
       "2              8      183             64              0        0  23.3   \n",
       "3              1       89             66             23       94  28.1   \n",
       "4              0      137             40             35      168  43.1   \n",
       "..           ...      ...            ...            ...      ...   ...   \n",
       "763           10      101             76             48      180  32.9   \n",
       "764            2      122             70             27        0  36.8   \n",
       "765            5      121             72             23      112  26.2   \n",
       "766            1      126             60              0        0  30.1   \n",
       "767            1       93             70             31        0  30.4   \n",
       "\n",
       "     DiabetesPedigreeFunction  Age       Outcome  \n",
       "0                       0.627   50      Diabetic  \n",
       "1                       0.351   31  Non Diabetic  \n",
       "2                       0.672   32      Diabetic  \n",
       "3                       0.167   21  Non Diabetic  \n",
       "4                       2.288   33      Diabetic  \n",
       "..                        ...  ...           ...  \n",
       "763                     0.171   63  Non Diabetic  \n",
       "764                     0.340   27  Non Diabetic  \n",
       "765                     0.245   30  Non Diabetic  \n",
       "766                     0.349   47      Diabetic  \n",
       "767                     0.315   23  Non Diabetic  \n",
       "\n",
       "[768 rows x 9 columns]"
      ]
     },
     "execution_count": 4,
     "metadata": {},
     "output_type": "execute_result"
    }
   ],
   "source": [
    "df"
   ]
  },
  {
   "cell_type": "code",
   "execution_count": 6,
   "id": "f367abf6-f7e4-47c0-a1d5-cef09cc1de6d",
   "metadata": {},
   "outputs": [
    {
     "name": "stdout",
     "output_type": "stream",
     "text": [
      "Outcome\n",
      "Non Diabetic    500\n",
      "Diabetic        268\n",
      "Name: count, dtype: int64\n"
     ]
    }
   ],
   "source": [
    "print(df['Outcome'].value_counts())"
   ]
  },
  {
   "cell_type": "markdown",
   "id": "6a03248f-8261-4fa5-b37c-2b0b3ac0edc4",
   "metadata": {},
   "source": [
    "# Replace ZERO with NaN"
   ]
  },
  {
   "cell_type": "code",
   "execution_count": 11,
   "id": "92905353-f612-4be6-8580-a81ca25d3a7f",
   "metadata": {},
   "outputs": [],
   "source": [
    "columns_to_replace=['Glucose','BloodPressure','SkinThickness','Insulin','BMI']\n",
    "df[columns_to_replace]=df[columns_to_replace].replace(0,np.nan)"
   ]
  },
  {
   "cell_type": "markdown",
   "id": "89fc3171-c702-4107-94b1-93b0feac3f04",
   "metadata": {},
   "source": [
    "# check missing values"
   ]
  },
  {
   "cell_type": "code",
   "execution_count": 12,
   "id": "5b90c830-a781-4468-8024-e65daac22f87",
   "metadata": {},
   "outputs": [
    {
     "name": "stdout",
     "output_type": "stream",
     "text": [
      "Pregnancies                   0\n",
      "Glucose                       5\n",
      "BloodPressure                35\n",
      "SkinThickness               227\n",
      "Insulin                     374\n",
      "BMI                          11\n",
      "DiabetesPedigreeFunction      0\n",
      "Age                           0\n",
      "Outcome                       0\n",
      "dtype: int64\n"
     ]
    }
   ],
   "source": [
    "print(df.isnull().sum())"
   ]
  },
  {
   "cell_type": "markdown",
   "id": "409f25f9-bc55-4be2-956a-4c8a87035121",
   "metadata": {},
   "source": [
    "# fill nissing value with median"
   ]
  },
  {
   "cell_type": "code",
   "execution_count": 19,
   "id": "bafca564-db24-4a1d-801e-e951685ef86f",
   "metadata": {},
   "outputs": [
    {
     "ename": "TypeError",
     "evalue": "Cannot convert [['Diabetic' 'Non Diabetic' 'Diabetic' 'Non Diabetic' 'Diabetic'\n  'Non Diabetic' 'Diabetic' 'Non Diabetic' 'Diabetic' 'Diabetic'\n  'Non Diabetic' 'Diabetic' 'Non Diabetic' 'Diabetic' 'Diabetic'\n  'Diabetic' 'Diabetic' 'Diabetic' 'Non Diabetic' 'Diabetic'\n  'Non Diabetic' 'Non Diabetic' 'Diabetic' 'Diabetic' 'Diabetic'\n  'Diabetic' 'Diabetic' 'Non Diabetic' 'Non Diabetic' 'Non Diabetic'\n  'Non Diabetic' 'Diabetic' 'Non Diabetic' 'Non Diabetic' 'Non Diabetic'\n  'Non Diabetic' 'Non Diabetic' 'Diabetic' 'Diabetic' 'Diabetic'\n  'Non Diabetic' 'Non Diabetic' 'Non Diabetic' 'Diabetic' 'Non Diabetic'\n  'Diabetic' 'Non Diabetic' 'Non Diabetic' 'Diabetic' 'Non Diabetic'\n  'Non Diabetic' 'Non Diabetic' 'Non Diabetic' 'Diabetic' 'Non Diabetic'\n  'Non Diabetic' 'Diabetic' 'Non Diabetic' 'Non Diabetic' 'Non Diabetic'\n  'Non Diabetic' 'Diabetic' 'Non Diabetic' 'Non Diabetic' 'Diabetic'\n  'Non Diabetic' 'Diabetic' 'Non Diabetic' 'Non Diabetic' 'Non Diabetic'\n  'Diabetic' 'Non Diabetic' 'Diabetic' 'Non Diabetic' 'Non Diabetic'\n  'Non Diabetic' 'Non Diabetic' 'Non Diabetic' 'Diabetic' 'Non Diabetic'\n  'Non Diabetic' 'Non Diabetic' 'Non Diabetic' 'Non Diabetic' 'Diabetic'\n  'Non Diabetic' 'Non Diabetic' 'Non Diabetic' 'Diabetic' 'Non Diabetic'\n  'Non Diabetic' 'Non Diabetic' 'Non Diabetic' 'Diabetic' 'Non Diabetic'\n  'Non Diabetic' 'Non Diabetic' 'Non Diabetic' 'Non Diabetic' 'Diabetic'\n  'Diabetic' 'Non Diabetic' 'Non Diabetic' 'Non Diabetic' 'Non Diabetic'\n  'Non Diabetic' 'Non Diabetic' 'Non Diabetic' 'Non Diabetic' 'Diabetic'\n  'Diabetic' 'Diabetic' 'Non Diabetic' 'Non Diabetic' 'Diabetic'\n  'Diabetic' 'Diabetic' 'Non Diabetic' 'Non Diabetic' 'Non Diabetic'\n  'Diabetic' 'Non Diabetic' 'Non Diabetic' 'Non Diabetic' 'Diabetic'\n  'Diabetic' 'Non Diabetic' 'Non Diabetic' 'Diabetic' 'Diabetic'\n  'Diabetic' 'Diabetic' 'Diabetic' 'Non Diabetic' 'Non Diabetic'\n  'Non Diabetic' 'Non Diabetic' 'Non Diabetic' 'Non Diabetic'\n  'Non Diabetic' 'Non Diabetic' 'Non Diabetic' 'Non Diabetic' 'Diabetic'\n  'Non Diabetic' 'Non Diabetic' 'Non Diabetic' 'Non Diabetic'\n  'Non Diabetic' 'Non Diabetic' 'Non Diabetic' 'Non Diabetic' 'Diabetic'\n  'Non Diabetic' 'Diabetic' 'Diabetic' 'Non Diabetic' 'Non Diabetic'\n  'Non Diabetic' 'Diabetic' 'Non Diabetic' 'Non Diabetic' 'Non Diabetic'\n  'Non Diabetic' 'Diabetic' 'Diabetic' 'Non Diabetic' 'Non Diabetic'\n  'Non Diabetic' 'Non Diabetic' 'Diabetic' 'Diabetic' 'Non Diabetic'\n  'Non Diabetic' 'Non Diabetic' 'Diabetic' 'Non Diabetic' 'Diabetic'\n  'Non Diabetic' 'Diabetic' 'Non Diabetic' 'Non Diabetic' 'Non Diabetic'\n  'Non Diabetic' 'Non Diabetic' 'Diabetic' 'Diabetic' 'Diabetic'\n  'Diabetic' 'Diabetic' 'Non Diabetic' 'Non Diabetic' 'Diabetic'\n  'Diabetic' 'Non Diabetic' 'Diabetic' 'Non Diabetic' 'Diabetic'\n  'Diabetic' 'Diabetic' 'Non Diabetic' 'Non Diabetic' 'Non Diabetic'\n  'Non Diabetic' 'Non Diabetic' 'Non Diabetic' 'Diabetic' 'Diabetic'\n  'Non Diabetic' 'Diabetic' 'Non Diabetic' 'Non Diabetic' 'Non Diabetic'\n  'Diabetic' 'Diabetic' 'Diabetic' 'Diabetic' 'Non Diabetic' 'Diabetic'\n  'Diabetic' 'Diabetic' 'Diabetic' 'Non Diabetic' 'Non Diabetic'\n  'Non Diabetic' 'Non Diabetic' 'Non Diabetic' 'Diabetic' 'Non Diabetic'\n  'Non Diabetic' 'Diabetic' 'Diabetic' 'Non Diabetic' 'Non Diabetic'\n  'Non Diabetic' 'Diabetic' 'Diabetic' 'Diabetic' 'Diabetic'\n  'Non Diabetic' 'Non Diabetic' 'Non Diabetic' 'Diabetic' 'Diabetic'\n  'Non Diabetic' 'Diabetic' 'Non Diabetic' 'Non Diabetic' 'Non Diabetic'\n  'Non Diabetic' 'Non Diabetic' 'Non Diabetic' 'Non Diabetic'\n  'Non Diabetic' 'Diabetic' 'Diabetic' 'Non Diabetic' 'Non Diabetic'\n  'Non Diabetic' 'Diabetic' 'Non Diabetic' 'Diabetic' 'Non Diabetic'\n  'Non Diabetic' 'Diabetic' 'Non Diabetic' 'Diabetic' 'Non Diabetic'\n  'Non Diabetic' 'Diabetic' 'Diabetic' 'Non Diabetic' 'Non Diabetic'\n  'Non Diabetic' 'Non Diabetic' 'Non Diabetic' 'Diabetic' 'Non Diabetic'\n  'Non Diabetic' 'Non Diabetic' 'Diabetic' 'Non Diabetic' 'Non Diabetic'\n  'Diabetic' 'Diabetic' 'Non Diabetic' 'Non Diabetic' 'Diabetic'\n  'Non Diabetic' 'Non Diabetic' 'Non Diabetic' 'Diabetic' 'Diabetic'\n  'Diabetic' 'Non Diabetic' 'Non Diabetic' 'Diabetic' 'Non Diabetic'\n  'Diabetic' 'Non Diabetic' 'Diabetic' 'Diabetic' 'Non Diabetic'\n  'Diabetic' 'Non Diabetic' 'Non Diabetic' 'Diabetic' 'Non Diabetic'\n  'Diabetic' 'Diabetic' 'Non Diabetic' 'Non Diabetic' 'Diabetic'\n  'Non Diabetic' 'Diabetic' 'Non Diabetic' 'Non Diabetic' 'Diabetic'\n  'Non Diabetic' 'Diabetic' 'Non Diabetic' 'Diabetic' 'Diabetic'\n  'Diabetic' 'Non Diabetic' 'Non Diabetic' 'Diabetic' 'Non Diabetic'\n  'Diabetic' 'Non Diabetic' 'Non Diabetic' 'Non Diabetic' 'Diabetic'\n  'Non Diabetic' 'Non Diabetic' 'Non Diabetic' 'Non Diabetic' 'Diabetic'\n  'Diabetic' 'Diabetic' 'Non Diabetic' 'Non Diabetic' 'Non Diabetic'\n  'Non Diabetic' 'Non Diabetic' 'Non Diabetic' 'Non Diabetic'\n  'Non Diabetic' 'Non Diabetic' 'Diabetic' 'Non Diabetic' 'Non Diabetic'\n  'Non Diabetic' 'Non Diabetic' 'Non Diabetic' 'Diabetic' 'Diabetic'\n  'Diabetic' 'Non Diabetic' 'Diabetic' 'Diabetic' 'Non Diabetic'\n  'Non Diabetic' 'Diabetic' 'Non Diabetic' 'Non Diabetic' 'Diabetic'\n  'Non Diabetic' 'Non Diabetic' 'Diabetic' 'Diabetic' 'Non Diabetic'\n  'Non Diabetic' 'Non Diabetic' 'Non Diabetic' 'Diabetic' 'Non Diabetic'\n  'Non Diabetic' 'Diabetic' 'Non Diabetic' 'Non Diabetic' 'Non Diabetic'\n  'Non Diabetic' 'Non Diabetic' 'Non Diabetic' 'Non Diabetic' 'Diabetic'\n  'Diabetic' 'Diabetic' 'Non Diabetic' 'Non Diabetic' 'Diabetic'\n  'Non Diabetic' 'Non Diabetic' 'Diabetic' 'Non Diabetic' 'Non Diabetic'\n  'Diabetic' 'Non Diabetic' 'Diabetic' 'Diabetic' 'Non Diabetic'\n  'Diabetic' 'Non Diabetic' 'Diabetic' 'Non Diabetic' 'Diabetic'\n  'Non Diabetic' 'Diabetic' 'Diabetic' 'Non Diabetic' 'Non Diabetic'\n  'Non Diabetic' 'Non Diabetic' 'Diabetic' 'Diabetic' 'Non Diabetic'\n  'Diabetic' 'Non Diabetic' 'Diabetic' 'Non Diabetic' 'Non Diabetic'\n  'Non Diabetic' 'Non Diabetic' 'Diabetic' 'Diabetic' 'Non Diabetic'\n  'Diabetic' 'Non Diabetic' 'Diabetic' 'Non Diabetic' 'Non Diabetic'\n  'Non Diabetic' 'Non Diabetic' 'Non Diabetic' 'Diabetic' 'Non Diabetic'\n  'Non Diabetic' 'Non Diabetic' 'Non Diabetic' 'Diabetic' 'Non Diabetic'\n  'Non Diabetic' 'Diabetic' 'Diabetic' 'Diabetic' 'Non Diabetic'\n  'Non Diabetic' 'Diabetic' 'Non Diabetic' 'Non Diabetic' 'Diabetic'\n  'Non Diabetic' 'Non Diabetic' 'Non Diabetic' 'Diabetic' 'Non Diabetic'\n  'Non Diabetic' 'Diabetic' 'Non Diabetic' 'Non Diabetic' 'Non Diabetic'\n  'Non Diabetic' 'Non Diabetic' 'Non Diabetic' 'Non Diabetic'\n  'Non Diabetic' 'Non Diabetic' 'Diabetic' 'Non Diabetic' 'Non Diabetic'\n  'Non Diabetic' 'Non Diabetic' 'Non Diabetic' 'Non Diabetic'\n  'Non Diabetic' 'Diabetic' 'Non Diabetic' 'Non Diabetic' 'Non Diabetic'\n  'Diabetic' 'Non Diabetic' 'Non Diabetic' 'Non Diabetic' 'Diabetic'\n  'Diabetic' 'Non Diabetic' 'Non Diabetic' 'Non Diabetic' 'Non Diabetic'\n  'Non Diabetic' 'Non Diabetic' 'Non Diabetic' 'Diabetic' 'Non Diabetic'\n  'Non Diabetic' 'Non Diabetic' 'Non Diabetic' 'Diabetic' 'Non Diabetic'\n  'Non Diabetic' 'Non Diabetic' 'Diabetic' 'Non Diabetic' 'Non Diabetic'\n  'Non Diabetic' 'Diabetic' 'Non Diabetic' 'Non Diabetic' 'Non Diabetic'\n  'Diabetic' 'Non Diabetic' 'Non Diabetic' 'Non Diabetic' 'Non Diabetic'\n  'Diabetic' 'Diabetic' 'Non Diabetic' 'Non Diabetic' 'Non Diabetic'\n  'Non Diabetic' 'Non Diabetic' 'Non Diabetic' 'Diabetic' 'Non Diabetic'\n  'Non Diabetic' 'Non Diabetic' 'Non Diabetic' 'Non Diabetic'\n  'Non Diabetic' 'Non Diabetic' 'Non Diabetic' 'Non Diabetic'\n  'Non Diabetic' 'Non Diabetic' 'Diabetic' 'Non Diabetic' 'Non Diabetic'\n  'Non Diabetic' 'Diabetic' 'Diabetic' 'Diabetic' 'Diabetic'\n  'Non Diabetic' 'Non Diabetic' 'Diabetic' 'Diabetic' 'Non Diabetic'\n  'Non Diabetic' 'Non Diabetic' 'Non Diabetic' 'Non Diabetic'\n  'Non Diabetic' 'Non Diabetic' 'Non Diabetic' 'Non Diabetic'\n  'Non Diabetic' 'Non Diabetic' 'Non Diabetic' 'Non Diabetic' 'Diabetic'\n  'Diabetic' 'Non Diabetic' 'Non Diabetic' 'Non Diabetic' 'Non Diabetic'\n  'Non Diabetic' 'Non Diabetic' 'Non Diabetic' 'Diabetic' 'Non Diabetic'\n  'Non Diabetic' 'Non Diabetic' 'Non Diabetic' 'Non Diabetic'\n  'Non Diabetic' 'Non Diabetic' 'Diabetic' 'Non Diabetic' 'Diabetic'\n  'Diabetic' 'Non Diabetic' 'Non Diabetic' 'Non Diabetic' 'Diabetic'\n  'Non Diabetic' 'Diabetic' 'Non Diabetic' 'Diabetic' 'Non Diabetic'\n  'Diabetic' 'Non Diabetic' 'Diabetic' 'Non Diabetic' 'Non Diabetic'\n  'Diabetic' 'Non Diabetic' 'Non Diabetic' 'Diabetic' 'Non Diabetic'\n  'Non Diabetic' 'Non Diabetic' 'Non Diabetic' 'Diabetic' 'Diabetic'\n  'Non Diabetic' 'Diabetic' 'Non Diabetic' 'Non Diabetic' 'Non Diabetic'\n  'Non Diabetic' 'Diabetic' 'Diabetic' 'Non Diabetic' 'Diabetic'\n  'Non Diabetic' 'Non Diabetic' 'Non Diabetic' 'Diabetic' 'Diabetic'\n  'Non Diabetic' 'Non Diabetic' 'Non Diabetic' 'Non Diabetic'\n  'Non Diabetic' 'Non Diabetic' 'Non Diabetic' 'Non Diabetic'\n  'Non Diabetic' 'Non Diabetic' 'Diabetic' 'Non Diabetic' 'Non Diabetic'\n  'Non Diabetic' 'Non Diabetic' 'Diabetic' 'Non Diabetic' 'Non Diabetic'\n  'Diabetic' 'Non Diabetic' 'Non Diabetic' 'Non Diabetic' 'Diabetic'\n  'Non Diabetic' 'Non Diabetic' 'Non Diabetic' 'Diabetic' 'Diabetic'\n  'Diabetic' 'Non Diabetic' 'Non Diabetic' 'Non Diabetic' 'Non Diabetic'\n  'Non Diabetic' 'Non Diabetic' 'Diabetic' 'Non Diabetic' 'Non Diabetic'\n  'Non Diabetic' 'Diabetic' 'Non Diabetic' 'Diabetic' 'Diabetic'\n  'Diabetic' 'Diabetic' 'Non Diabetic' 'Diabetic' 'Diabetic'\n  'Non Diabetic' 'Non Diabetic' 'Non Diabetic' 'Non Diabetic'\n  'Non Diabetic' 'Non Diabetic' 'Non Diabetic' 'Diabetic' 'Diabetic'\n  'Non Diabetic' 'Diabetic' 'Non Diabetic' 'Non Diabetic' 'Diabetic'\n  'Non Diabetic' 'Diabetic' 'Non Diabetic' 'Non Diabetic' 'Non Diabetic'\n  'Non Diabetic' 'Non Diabetic' 'Diabetic' 'Non Diabetic' 'Diabetic'\n  'Non Diabetic' 'Diabetic' 'Non Diabetic' 'Diabetic' 'Diabetic'\n  'Non Diabetic' 'Non Diabetic' 'Non Diabetic' 'Non Diabetic' 'Diabetic'\n  'Diabetic' 'Non Diabetic' 'Non Diabetic' 'Non Diabetic' 'Diabetic'\n  'Non Diabetic' 'Diabetic' 'Diabetic' 'Non Diabetic' 'Non Diabetic'\n  'Diabetic' 'Non Diabetic' 'Non Diabetic' 'Diabetic' 'Diabetic'\n  'Non Diabetic' 'Non Diabetic' 'Diabetic' 'Non Diabetic' 'Non Diabetic'\n  'Diabetic' 'Non Diabetic' 'Non Diabetic' 'Non Diabetic' 'Non Diabetic'\n  'Non Diabetic' 'Non Diabetic' 'Non Diabetic' 'Diabetic' 'Diabetic'\n  'Diabetic' 'Non Diabetic' 'Non Diabetic' 'Non Diabetic' 'Non Diabetic'\n  'Non Diabetic' 'Non Diabetic' 'Diabetic' 'Diabetic' 'Non Diabetic'\n  'Non Diabetic' 'Diabetic' 'Non Diabetic' 'Non Diabetic' 'Diabetic'\n  'Non Diabetic' 'Diabetic' 'Diabetic' 'Diabetic' 'Non Diabetic'\n  'Non Diabetic' 'Diabetic' 'Diabetic' 'Diabetic' 'Non Diabetic'\n  'Diabetic' 'Non Diabetic' 'Diabetic' 'Non Diabetic' 'Diabetic'\n  'Non Diabetic' 'Non Diabetic' 'Non Diabetic' 'Non Diabetic' 'Diabetic'\n  'Non Diabetic']] to numeric",
     "output_type": "error",
     "traceback": [
      "\u001b[1;31m---------------------------------------------------------------------------\u001b[0m",
      "\u001b[1;31mTypeError\u001b[0m                                 Traceback (most recent call last)",
      "Cell \u001b[1;32mIn[19], line 1\u001b[0m\n\u001b[1;32m----> 1\u001b[0m df\u001b[38;5;241m.\u001b[39mfillna(df\u001b[38;5;241m.\u001b[39mmedian(),inplace\u001b[38;5;241m=\u001b[39m\u001b[38;5;28;01mTrue\u001b[39;00m)\n",
      "File \u001b[1;32m~\\anaconda3\\Lib\\site-packages\\pandas\\core\\frame.py:11348\u001b[0m, in \u001b[0;36mDataFrame.median\u001b[1;34m(self, axis, skipna, numeric_only, **kwargs)\u001b[0m\n\u001b[0;32m  11340\u001b[0m \u001b[38;5;129m@doc\u001b[39m(make_doc(\u001b[38;5;124m\"\u001b[39m\u001b[38;5;124mmedian\u001b[39m\u001b[38;5;124m\"\u001b[39m, ndim\u001b[38;5;241m=\u001b[39m\u001b[38;5;241m2\u001b[39m))\n\u001b[0;32m  11341\u001b[0m \u001b[38;5;28;01mdef\u001b[39;00m \u001b[38;5;21mmedian\u001b[39m(\n\u001b[0;32m  11342\u001b[0m     \u001b[38;5;28mself\u001b[39m,\n\u001b[1;32m   (...)\u001b[0m\n\u001b[0;32m  11346\u001b[0m     \u001b[38;5;241m*\u001b[39m\u001b[38;5;241m*\u001b[39mkwargs,\n\u001b[0;32m  11347\u001b[0m ):\n\u001b[1;32m> 11348\u001b[0m     result \u001b[38;5;241m=\u001b[39m \u001b[38;5;28msuper\u001b[39m()\u001b[38;5;241m.\u001b[39mmedian(axis, skipna, numeric_only, \u001b[38;5;241m*\u001b[39m\u001b[38;5;241m*\u001b[39mkwargs)\n\u001b[0;32m  11349\u001b[0m     \u001b[38;5;28;01mif\u001b[39;00m \u001b[38;5;28misinstance\u001b[39m(result, Series):\n\u001b[0;32m  11350\u001b[0m         result \u001b[38;5;241m=\u001b[39m result\u001b[38;5;241m.\u001b[39m__finalize__(\u001b[38;5;28mself\u001b[39m, method\u001b[38;5;241m=\u001b[39m\u001b[38;5;124m\"\u001b[39m\u001b[38;5;124mmedian\u001b[39m\u001b[38;5;124m\"\u001b[39m)\n",
      "File \u001b[1;32m~\\anaconda3\\Lib\\site-packages\\pandas\\core\\generic.py:12003\u001b[0m, in \u001b[0;36mNDFrame.median\u001b[1;34m(self, axis, skipna, numeric_only, **kwargs)\u001b[0m\n\u001b[0;32m  11996\u001b[0m \u001b[38;5;28;01mdef\u001b[39;00m \u001b[38;5;21mmedian\u001b[39m(\n\u001b[0;32m  11997\u001b[0m     \u001b[38;5;28mself\u001b[39m,\n\u001b[0;32m  11998\u001b[0m     axis: Axis \u001b[38;5;241m|\u001b[39m \u001b[38;5;28;01mNone\u001b[39;00m \u001b[38;5;241m=\u001b[39m \u001b[38;5;241m0\u001b[39m,\n\u001b[1;32m   (...)\u001b[0m\n\u001b[0;32m  12001\u001b[0m     \u001b[38;5;241m*\u001b[39m\u001b[38;5;241m*\u001b[39mkwargs,\n\u001b[0;32m  12002\u001b[0m ) \u001b[38;5;241m-\u001b[39m\u001b[38;5;241m>\u001b[39m Series \u001b[38;5;241m|\u001b[39m \u001b[38;5;28mfloat\u001b[39m:\n\u001b[1;32m> 12003\u001b[0m     \u001b[38;5;28;01mreturn\u001b[39;00m \u001b[38;5;28mself\u001b[39m\u001b[38;5;241m.\u001b[39m_stat_function(\n\u001b[0;32m  12004\u001b[0m         \u001b[38;5;124m\"\u001b[39m\u001b[38;5;124mmedian\u001b[39m\u001b[38;5;124m\"\u001b[39m, nanops\u001b[38;5;241m.\u001b[39mnanmedian, axis, skipna, numeric_only, \u001b[38;5;241m*\u001b[39m\u001b[38;5;241m*\u001b[39mkwargs\n\u001b[0;32m  12005\u001b[0m     )\n",
      "File \u001b[1;32m~\\anaconda3\\Lib\\site-packages\\pandas\\core\\generic.py:11949\u001b[0m, in \u001b[0;36mNDFrame._stat_function\u001b[1;34m(self, name, func, axis, skipna, numeric_only, **kwargs)\u001b[0m\n\u001b[0;32m  11945\u001b[0m nv\u001b[38;5;241m.\u001b[39mvalidate_func(name, (), kwargs)\n\u001b[0;32m  11947\u001b[0m validate_bool_kwarg(skipna, \u001b[38;5;124m\"\u001b[39m\u001b[38;5;124mskipna\u001b[39m\u001b[38;5;124m\"\u001b[39m, none_allowed\u001b[38;5;241m=\u001b[39m\u001b[38;5;28;01mFalse\u001b[39;00m)\n\u001b[1;32m> 11949\u001b[0m \u001b[38;5;28;01mreturn\u001b[39;00m \u001b[38;5;28mself\u001b[39m\u001b[38;5;241m.\u001b[39m_reduce(\n\u001b[0;32m  11950\u001b[0m     func, name\u001b[38;5;241m=\u001b[39mname, axis\u001b[38;5;241m=\u001b[39maxis, skipna\u001b[38;5;241m=\u001b[39mskipna, numeric_only\u001b[38;5;241m=\u001b[39mnumeric_only\n\u001b[0;32m  11951\u001b[0m )\n",
      "File \u001b[1;32m~\\anaconda3\\Lib\\site-packages\\pandas\\core\\frame.py:11204\u001b[0m, in \u001b[0;36mDataFrame._reduce\u001b[1;34m(self, op, name, axis, skipna, numeric_only, filter_type, **kwds)\u001b[0m\n\u001b[0;32m  11200\u001b[0m     df \u001b[38;5;241m=\u001b[39m df\u001b[38;5;241m.\u001b[39mT\n\u001b[0;32m  11202\u001b[0m \u001b[38;5;66;03m# After possibly _get_data and transposing, we are now in the\u001b[39;00m\n\u001b[0;32m  11203\u001b[0m \u001b[38;5;66;03m#  simple case where we can use BlockManager.reduce\u001b[39;00m\n\u001b[1;32m> 11204\u001b[0m res \u001b[38;5;241m=\u001b[39m df\u001b[38;5;241m.\u001b[39m_mgr\u001b[38;5;241m.\u001b[39mreduce(blk_func)\n\u001b[0;32m  11205\u001b[0m out \u001b[38;5;241m=\u001b[39m df\u001b[38;5;241m.\u001b[39m_constructor_from_mgr(res, axes\u001b[38;5;241m=\u001b[39mres\u001b[38;5;241m.\u001b[39maxes)\u001b[38;5;241m.\u001b[39miloc[\u001b[38;5;241m0\u001b[39m]\n\u001b[0;32m  11206\u001b[0m \u001b[38;5;28;01mif\u001b[39;00m out_dtype \u001b[38;5;129;01mis\u001b[39;00m \u001b[38;5;129;01mnot\u001b[39;00m \u001b[38;5;28;01mNone\u001b[39;00m \u001b[38;5;129;01mand\u001b[39;00m out\u001b[38;5;241m.\u001b[39mdtype \u001b[38;5;241m!=\u001b[39m \u001b[38;5;124m\"\u001b[39m\u001b[38;5;124mboolean\u001b[39m\u001b[38;5;124m\"\u001b[39m:\n",
      "File \u001b[1;32m~\\anaconda3\\Lib\\site-packages\\pandas\\core\\internals\\managers.py:1459\u001b[0m, in \u001b[0;36mBlockManager.reduce\u001b[1;34m(self, func)\u001b[0m\n\u001b[0;32m   1457\u001b[0m res_blocks: \u001b[38;5;28mlist\u001b[39m[Block] \u001b[38;5;241m=\u001b[39m []\n\u001b[0;32m   1458\u001b[0m \u001b[38;5;28;01mfor\u001b[39;00m blk \u001b[38;5;129;01min\u001b[39;00m \u001b[38;5;28mself\u001b[39m\u001b[38;5;241m.\u001b[39mblocks:\n\u001b[1;32m-> 1459\u001b[0m     nbs \u001b[38;5;241m=\u001b[39m blk\u001b[38;5;241m.\u001b[39mreduce(func)\n\u001b[0;32m   1460\u001b[0m     res_blocks\u001b[38;5;241m.\u001b[39mextend(nbs)\n\u001b[0;32m   1462\u001b[0m index \u001b[38;5;241m=\u001b[39m Index([\u001b[38;5;28;01mNone\u001b[39;00m])  \u001b[38;5;66;03m# placeholder\u001b[39;00m\n",
      "File \u001b[1;32m~\\anaconda3\\Lib\\site-packages\\pandas\\core\\internals\\blocks.py:377\u001b[0m, in \u001b[0;36mBlock.reduce\u001b[1;34m(self, func)\u001b[0m\n\u001b[0;32m    371\u001b[0m \u001b[38;5;129m@final\u001b[39m\n\u001b[0;32m    372\u001b[0m \u001b[38;5;28;01mdef\u001b[39;00m \u001b[38;5;21mreduce\u001b[39m(\u001b[38;5;28mself\u001b[39m, func) \u001b[38;5;241m-\u001b[39m\u001b[38;5;241m>\u001b[39m \u001b[38;5;28mlist\u001b[39m[Block]:\n\u001b[0;32m    373\u001b[0m     \u001b[38;5;66;03m# We will apply the function and reshape the result into a single-row\u001b[39;00m\n\u001b[0;32m    374\u001b[0m     \u001b[38;5;66;03m#  Block with the same mgr_locs; squeezing will be done at a higher level\u001b[39;00m\n\u001b[0;32m    375\u001b[0m     \u001b[38;5;28;01massert\u001b[39;00m \u001b[38;5;28mself\u001b[39m\u001b[38;5;241m.\u001b[39mndim \u001b[38;5;241m==\u001b[39m \u001b[38;5;241m2\u001b[39m\n\u001b[1;32m--> 377\u001b[0m     result \u001b[38;5;241m=\u001b[39m func(\u001b[38;5;28mself\u001b[39m\u001b[38;5;241m.\u001b[39mvalues)\n\u001b[0;32m    379\u001b[0m     \u001b[38;5;28;01mif\u001b[39;00m \u001b[38;5;28mself\u001b[39m\u001b[38;5;241m.\u001b[39mvalues\u001b[38;5;241m.\u001b[39mndim \u001b[38;5;241m==\u001b[39m \u001b[38;5;241m1\u001b[39m:\n\u001b[0;32m    380\u001b[0m         res_values \u001b[38;5;241m=\u001b[39m result\n",
      "File \u001b[1;32m~\\anaconda3\\Lib\\site-packages\\pandas\\core\\frame.py:11136\u001b[0m, in \u001b[0;36mDataFrame._reduce.<locals>.blk_func\u001b[1;34m(values, axis)\u001b[0m\n\u001b[0;32m  11134\u001b[0m         \u001b[38;5;28;01mreturn\u001b[39;00m np\u001b[38;5;241m.\u001b[39marray([result])\n\u001b[0;32m  11135\u001b[0m \u001b[38;5;28;01melse\u001b[39;00m:\n\u001b[1;32m> 11136\u001b[0m     \u001b[38;5;28;01mreturn\u001b[39;00m op(values, axis\u001b[38;5;241m=\u001b[39maxis, skipna\u001b[38;5;241m=\u001b[39mskipna, \u001b[38;5;241m*\u001b[39m\u001b[38;5;241m*\u001b[39mkwds)\n",
      "File \u001b[1;32m~\\anaconda3\\Lib\\site-packages\\pandas\\core\\nanops.py:147\u001b[0m, in \u001b[0;36mbottleneck_switch.__call__.<locals>.f\u001b[1;34m(values, axis, skipna, **kwds)\u001b[0m\n\u001b[0;32m    145\u001b[0m         result \u001b[38;5;241m=\u001b[39m alt(values, axis\u001b[38;5;241m=\u001b[39maxis, skipna\u001b[38;5;241m=\u001b[39mskipna, \u001b[38;5;241m*\u001b[39m\u001b[38;5;241m*\u001b[39mkwds)\n\u001b[0;32m    146\u001b[0m \u001b[38;5;28;01melse\u001b[39;00m:\n\u001b[1;32m--> 147\u001b[0m     result \u001b[38;5;241m=\u001b[39m alt(values, axis\u001b[38;5;241m=\u001b[39maxis, skipna\u001b[38;5;241m=\u001b[39mskipna, \u001b[38;5;241m*\u001b[39m\u001b[38;5;241m*\u001b[39mkwds)\n\u001b[0;32m    149\u001b[0m \u001b[38;5;28;01mreturn\u001b[39;00m result\n",
      "File \u001b[1;32m~\\anaconda3\\Lib\\site-packages\\pandas\\core\\nanops.py:783\u001b[0m, in \u001b[0;36mnanmedian\u001b[1;34m(values, axis, skipna, mask)\u001b[0m\n\u001b[0;32m    781\u001b[0m     inferred \u001b[38;5;241m=\u001b[39m lib\u001b[38;5;241m.\u001b[39minfer_dtype(values)\n\u001b[0;32m    782\u001b[0m     \u001b[38;5;28;01mif\u001b[39;00m inferred \u001b[38;5;129;01min\u001b[39;00m [\u001b[38;5;124m\"\u001b[39m\u001b[38;5;124mstring\u001b[39m\u001b[38;5;124m\"\u001b[39m, \u001b[38;5;124m\"\u001b[39m\u001b[38;5;124mmixed\u001b[39m\u001b[38;5;124m\"\u001b[39m]:\n\u001b[1;32m--> 783\u001b[0m         \u001b[38;5;28;01mraise\u001b[39;00m \u001b[38;5;167;01mTypeError\u001b[39;00m(\u001b[38;5;124mf\u001b[39m\u001b[38;5;124m\"\u001b[39m\u001b[38;5;124mCannot convert \u001b[39m\u001b[38;5;132;01m{\u001b[39;00mvalues\u001b[38;5;132;01m}\u001b[39;00m\u001b[38;5;124m to numeric\u001b[39m\u001b[38;5;124m\"\u001b[39m)\n\u001b[0;32m    784\u001b[0m \u001b[38;5;28;01mtry\u001b[39;00m:\n\u001b[0;32m    785\u001b[0m     values \u001b[38;5;241m=\u001b[39m values\u001b[38;5;241m.\u001b[39mastype(\u001b[38;5;124m\"\u001b[39m\u001b[38;5;124mf8\u001b[39m\u001b[38;5;124m\"\u001b[39m)\n",
      "\u001b[1;31mTypeError\u001b[0m: Cannot convert [['Diabetic' 'Non Diabetic' 'Diabetic' 'Non Diabetic' 'Diabetic'\n  'Non Diabetic' 'Diabetic' 'Non Diabetic' 'Diabetic' 'Diabetic'\n  'Non Diabetic' 'Diabetic' 'Non Diabetic' 'Diabetic' 'Diabetic'\n  'Diabetic' 'Diabetic' 'Diabetic' 'Non Diabetic' 'Diabetic'\n  'Non Diabetic' 'Non Diabetic' 'Diabetic' 'Diabetic' 'Diabetic'\n  'Diabetic' 'Diabetic' 'Non Diabetic' 'Non Diabetic' 'Non Diabetic'\n  'Non Diabetic' 'Diabetic' 'Non Diabetic' 'Non Diabetic' 'Non Diabetic'\n  'Non Diabetic' 'Non Diabetic' 'Diabetic' 'Diabetic' 'Diabetic'\n  'Non Diabetic' 'Non Diabetic' 'Non Diabetic' 'Diabetic' 'Non Diabetic'\n  'Diabetic' 'Non Diabetic' 'Non Diabetic' 'Diabetic' 'Non Diabetic'\n  'Non Diabetic' 'Non Diabetic' 'Non Diabetic' 'Diabetic' 'Non Diabetic'\n  'Non Diabetic' 'Diabetic' 'Non Diabetic' 'Non Diabetic' 'Non Diabetic'\n  'Non Diabetic' 'Diabetic' 'Non Diabetic' 'Non Diabetic' 'Diabetic'\n  'Non Diabetic' 'Diabetic' 'Non Diabetic' 'Non Diabetic' 'Non Diabetic'\n  'Diabetic' 'Non Diabetic' 'Diabetic' 'Non Diabetic' 'Non Diabetic'\n  'Non Diabetic' 'Non Diabetic' 'Non Diabetic' 'Diabetic' 'Non Diabetic'\n  'Non Diabetic' 'Non Diabetic' 'Non Diabetic' 'Non Diabetic' 'Diabetic'\n  'Non Diabetic' 'Non Diabetic' 'Non Diabetic' 'Diabetic' 'Non Diabetic'\n  'Non Diabetic' 'Non Diabetic' 'Non Diabetic' 'Diabetic' 'Non Diabetic'\n  'Non Diabetic' 'Non Diabetic' 'Non Diabetic' 'Non Diabetic' 'Diabetic'\n  'Diabetic' 'Non Diabetic' 'Non Diabetic' 'Non Diabetic' 'Non Diabetic'\n  'Non Diabetic' 'Non Diabetic' 'Non Diabetic' 'Non Diabetic' 'Diabetic'\n  'Diabetic' 'Diabetic' 'Non Diabetic' 'Non Diabetic' 'Diabetic'\n  'Diabetic' 'Diabetic' 'Non Diabetic' 'Non Diabetic' 'Non Diabetic'\n  'Diabetic' 'Non Diabetic' 'Non Diabetic' 'Non Diabetic' 'Diabetic'\n  'Diabetic' 'Non Diabetic' 'Non Diabetic' 'Diabetic' 'Diabetic'\n  'Diabetic' 'Diabetic' 'Diabetic' 'Non Diabetic' 'Non Diabetic'\n  'Non Diabetic' 'Non Diabetic' 'Non Diabetic' 'Non Diabetic'\n  'Non Diabetic' 'Non Diabetic' 'Non Diabetic' 'Non Diabetic' 'Diabetic'\n  'Non Diabetic' 'Non Diabetic' 'Non Diabetic' 'Non Diabetic'\n  'Non Diabetic' 'Non Diabetic' 'Non Diabetic' 'Non Diabetic' 'Diabetic'\n  'Non Diabetic' 'Diabetic' 'Diabetic' 'Non Diabetic' 'Non Diabetic'\n  'Non Diabetic' 'Diabetic' 'Non Diabetic' 'Non Diabetic' 'Non Diabetic'\n  'Non Diabetic' 'Diabetic' 'Diabetic' 'Non Diabetic' 'Non Diabetic'\n  'Non Diabetic' 'Non Diabetic' 'Diabetic' 'Diabetic' 'Non Diabetic'\n  'Non Diabetic' 'Non Diabetic' 'Diabetic' 'Non Diabetic' 'Diabetic'\n  'Non Diabetic' 'Diabetic' 'Non Diabetic' 'Non Diabetic' 'Non Diabetic'\n  'Non Diabetic' 'Non Diabetic' 'Diabetic' 'Diabetic' 'Diabetic'\n  'Diabetic' 'Diabetic' 'Non Diabetic' 'Non Diabetic' 'Diabetic'\n  'Diabetic' 'Non Diabetic' 'Diabetic' 'Non Diabetic' 'Diabetic'\n  'Diabetic' 'Diabetic' 'Non Diabetic' 'Non Diabetic' 'Non Diabetic'\n  'Non Diabetic' 'Non Diabetic' 'Non Diabetic' 'Diabetic' 'Diabetic'\n  'Non Diabetic' 'Diabetic' 'Non Diabetic' 'Non Diabetic' 'Non Diabetic'\n  'Diabetic' 'Diabetic' 'Diabetic' 'Diabetic' 'Non Diabetic' 'Diabetic'\n  'Diabetic' 'Diabetic' 'Diabetic' 'Non Diabetic' 'Non Diabetic'\n  'Non Diabetic' 'Non Diabetic' 'Non Diabetic' 'Diabetic' 'Non Diabetic'\n  'Non Diabetic' 'Diabetic' 'Diabetic' 'Non Diabetic' 'Non Diabetic'\n  'Non Diabetic' 'Diabetic' 'Diabetic' 'Diabetic' 'Diabetic'\n  'Non Diabetic' 'Non Diabetic' 'Non Diabetic' 'Diabetic' 'Diabetic'\n  'Non Diabetic' 'Diabetic' 'Non Diabetic' 'Non Diabetic' 'Non Diabetic'\n  'Non Diabetic' 'Non Diabetic' 'Non Diabetic' 'Non Diabetic'\n  'Non Diabetic' 'Diabetic' 'Diabetic' 'Non Diabetic' 'Non Diabetic'\n  'Non Diabetic' 'Diabetic' 'Non Diabetic' 'Diabetic' 'Non Diabetic'\n  'Non Diabetic' 'Diabetic' 'Non Diabetic' 'Diabetic' 'Non Diabetic'\n  'Non Diabetic' 'Diabetic' 'Diabetic' 'Non Diabetic' 'Non Diabetic'\n  'Non Diabetic' 'Non Diabetic' 'Non Diabetic' 'Diabetic' 'Non Diabetic'\n  'Non Diabetic' 'Non Diabetic' 'Diabetic' 'Non Diabetic' 'Non Diabetic'\n  'Diabetic' 'Diabetic' 'Non Diabetic' 'Non Diabetic' 'Diabetic'\n  'Non Diabetic' 'Non Diabetic' 'Non Diabetic' 'Diabetic' 'Diabetic'\n  'Diabetic' 'Non Diabetic' 'Non Diabetic' 'Diabetic' 'Non Diabetic'\n  'Diabetic' 'Non Diabetic' 'Diabetic' 'Diabetic' 'Non Diabetic'\n  'Diabetic' 'Non Diabetic' 'Non Diabetic' 'Diabetic' 'Non Diabetic'\n  'Diabetic' 'Diabetic' 'Non Diabetic' 'Non Diabetic' 'Diabetic'\n  'Non Diabetic' 'Diabetic' 'Non Diabetic' 'Non Diabetic' 'Diabetic'\n  'Non Diabetic' 'Diabetic' 'Non Diabetic' 'Diabetic' 'Diabetic'\n  'Diabetic' 'Non Diabetic' 'Non Diabetic' 'Diabetic' 'Non Diabetic'\n  'Diabetic' 'Non Diabetic' 'Non Diabetic' 'Non Diabetic' 'Diabetic'\n  'Non Diabetic' 'Non Diabetic' 'Non Diabetic' 'Non Diabetic' 'Diabetic'\n  'Diabetic' 'Diabetic' 'Non Diabetic' 'Non Diabetic' 'Non Diabetic'\n  'Non Diabetic' 'Non Diabetic' 'Non Diabetic' 'Non Diabetic'\n  'Non Diabetic' 'Non Diabetic' 'Diabetic' 'Non Diabetic' 'Non Diabetic'\n  'Non Diabetic' 'Non Diabetic' 'Non Diabetic' 'Diabetic' 'Diabetic'\n  'Diabetic' 'Non Diabetic' 'Diabetic' 'Diabetic' 'Non Diabetic'\n  'Non Diabetic' 'Diabetic' 'Non Diabetic' 'Non Diabetic' 'Diabetic'\n  'Non Diabetic' 'Non Diabetic' 'Diabetic' 'Diabetic' 'Non Diabetic'\n  'Non Diabetic' 'Non Diabetic' 'Non Diabetic' 'Diabetic' 'Non Diabetic'\n  'Non Diabetic' 'Diabetic' 'Non Diabetic' 'Non Diabetic' 'Non Diabetic'\n  'Non Diabetic' 'Non Diabetic' 'Non Diabetic' 'Non Diabetic' 'Diabetic'\n  'Diabetic' 'Diabetic' 'Non Diabetic' 'Non Diabetic' 'Diabetic'\n  'Non Diabetic' 'Non Diabetic' 'Diabetic' 'Non Diabetic' 'Non Diabetic'\n  'Diabetic' 'Non Diabetic' 'Diabetic' 'Diabetic' 'Non Diabetic'\n  'Diabetic' 'Non Diabetic' 'Diabetic' 'Non Diabetic' 'Diabetic'\n  'Non Diabetic' 'Diabetic' 'Diabetic' 'Non Diabetic' 'Non Diabetic'\n  'Non Diabetic' 'Non Diabetic' 'Diabetic' 'Diabetic' 'Non Diabetic'\n  'Diabetic' 'Non Diabetic' 'Diabetic' 'Non Diabetic' 'Non Diabetic'\n  'Non Diabetic' 'Non Diabetic' 'Diabetic' 'Diabetic' 'Non Diabetic'\n  'Diabetic' 'Non Diabetic' 'Diabetic' 'Non Diabetic' 'Non Diabetic'\n  'Non Diabetic' 'Non Diabetic' 'Non Diabetic' 'Diabetic' 'Non Diabetic'\n  'Non Diabetic' 'Non Diabetic' 'Non Diabetic' 'Diabetic' 'Non Diabetic'\n  'Non Diabetic' 'Diabetic' 'Diabetic' 'Diabetic' 'Non Diabetic'\n  'Non Diabetic' 'Diabetic' 'Non Diabetic' 'Non Diabetic' 'Diabetic'\n  'Non Diabetic' 'Non Diabetic' 'Non Diabetic' 'Diabetic' 'Non Diabetic'\n  'Non Diabetic' 'Diabetic' 'Non Diabetic' 'Non Diabetic' 'Non Diabetic'\n  'Non Diabetic' 'Non Diabetic' 'Non Diabetic' 'Non Diabetic'\n  'Non Diabetic' 'Non Diabetic' 'Diabetic' 'Non Diabetic' 'Non Diabetic'\n  'Non Diabetic' 'Non Diabetic' 'Non Diabetic' 'Non Diabetic'\n  'Non Diabetic' 'Diabetic' 'Non Diabetic' 'Non Diabetic' 'Non Diabetic'\n  'Diabetic' 'Non Diabetic' 'Non Diabetic' 'Non Diabetic' 'Diabetic'\n  'Diabetic' 'Non Diabetic' 'Non Diabetic' 'Non Diabetic' 'Non Diabetic'\n  'Non Diabetic' 'Non Diabetic' 'Non Diabetic' 'Diabetic' 'Non Diabetic'\n  'Non Diabetic' 'Non Diabetic' 'Non Diabetic' 'Diabetic' 'Non Diabetic'\n  'Non Diabetic' 'Non Diabetic' 'Diabetic' 'Non Diabetic' 'Non Diabetic'\n  'Non Diabetic' 'Diabetic' 'Non Diabetic' 'Non Diabetic' 'Non Diabetic'\n  'Diabetic' 'Non Diabetic' 'Non Diabetic' 'Non Diabetic' 'Non Diabetic'\n  'Diabetic' 'Diabetic' 'Non Diabetic' 'Non Diabetic' 'Non Diabetic'\n  'Non Diabetic' 'Non Diabetic' 'Non Diabetic' 'Diabetic' 'Non Diabetic'\n  'Non Diabetic' 'Non Diabetic' 'Non Diabetic' 'Non Diabetic'\n  'Non Diabetic' 'Non Diabetic' 'Non Diabetic' 'Non Diabetic'\n  'Non Diabetic' 'Non Diabetic' 'Diabetic' 'Non Diabetic' 'Non Diabetic'\n  'Non Diabetic' 'Diabetic' 'Diabetic' 'Diabetic' 'Diabetic'\n  'Non Diabetic' 'Non Diabetic' 'Diabetic' 'Diabetic' 'Non Diabetic'\n  'Non Diabetic' 'Non Diabetic' 'Non Diabetic' 'Non Diabetic'\n  'Non Diabetic' 'Non Diabetic' 'Non Diabetic' 'Non Diabetic'\n  'Non Diabetic' 'Non Diabetic' 'Non Diabetic' 'Non Diabetic' 'Diabetic'\n  'Diabetic' 'Non Diabetic' 'Non Diabetic' 'Non Diabetic' 'Non Diabetic'\n  'Non Diabetic' 'Non Diabetic' 'Non Diabetic' 'Diabetic' 'Non Diabetic'\n  'Non Diabetic' 'Non Diabetic' 'Non Diabetic' 'Non Diabetic'\n  'Non Diabetic' 'Non Diabetic' 'Diabetic' 'Non Diabetic' 'Diabetic'\n  'Diabetic' 'Non Diabetic' 'Non Diabetic' 'Non Diabetic' 'Diabetic'\n  'Non Diabetic' 'Diabetic' 'Non Diabetic' 'Diabetic' 'Non Diabetic'\n  'Diabetic' 'Non Diabetic' 'Diabetic' 'Non Diabetic' 'Non Diabetic'\n  'Diabetic' 'Non Diabetic' 'Non Diabetic' 'Diabetic' 'Non Diabetic'\n  'Non Diabetic' 'Non Diabetic' 'Non Diabetic' 'Diabetic' 'Diabetic'\n  'Non Diabetic' 'Diabetic' 'Non Diabetic' 'Non Diabetic' 'Non Diabetic'\n  'Non Diabetic' 'Diabetic' 'Diabetic' 'Non Diabetic' 'Diabetic'\n  'Non Diabetic' 'Non Diabetic' 'Non Diabetic' 'Diabetic' 'Diabetic'\n  'Non Diabetic' 'Non Diabetic' 'Non Diabetic' 'Non Diabetic'\n  'Non Diabetic' 'Non Diabetic' 'Non Diabetic' 'Non Diabetic'\n  'Non Diabetic' 'Non Diabetic' 'Diabetic' 'Non Diabetic' 'Non Diabetic'\n  'Non Diabetic' 'Non Diabetic' 'Diabetic' 'Non Diabetic' 'Non Diabetic'\n  'Diabetic' 'Non Diabetic' 'Non Diabetic' 'Non Diabetic' 'Diabetic'\n  'Non Diabetic' 'Non Diabetic' 'Non Diabetic' 'Diabetic' 'Diabetic'\n  'Diabetic' 'Non Diabetic' 'Non Diabetic' 'Non Diabetic' 'Non Diabetic'\n  'Non Diabetic' 'Non Diabetic' 'Diabetic' 'Non Diabetic' 'Non Diabetic'\n  'Non Diabetic' 'Diabetic' 'Non Diabetic' 'Diabetic' 'Diabetic'\n  'Diabetic' 'Diabetic' 'Non Diabetic' 'Diabetic' 'Diabetic'\n  'Non Diabetic' 'Non Diabetic' 'Non Diabetic' 'Non Diabetic'\n  'Non Diabetic' 'Non Diabetic' 'Non Diabetic' 'Diabetic' 'Diabetic'\n  'Non Diabetic' 'Diabetic' 'Non Diabetic' 'Non Diabetic' 'Diabetic'\n  'Non Diabetic' 'Diabetic' 'Non Diabetic' 'Non Diabetic' 'Non Diabetic'\n  'Non Diabetic' 'Non Diabetic' 'Diabetic' 'Non Diabetic' 'Diabetic'\n  'Non Diabetic' 'Diabetic' 'Non Diabetic' 'Diabetic' 'Diabetic'\n  'Non Diabetic' 'Non Diabetic' 'Non Diabetic' 'Non Diabetic' 'Diabetic'\n  'Diabetic' 'Non Diabetic' 'Non Diabetic' 'Non Diabetic' 'Diabetic'\n  'Non Diabetic' 'Diabetic' 'Diabetic' 'Non Diabetic' 'Non Diabetic'\n  'Diabetic' 'Non Diabetic' 'Non Diabetic' 'Diabetic' 'Diabetic'\n  'Non Diabetic' 'Non Diabetic' 'Diabetic' 'Non Diabetic' 'Non Diabetic'\n  'Diabetic' 'Non Diabetic' 'Non Diabetic' 'Non Diabetic' 'Non Diabetic'\n  'Non Diabetic' 'Non Diabetic' 'Non Diabetic' 'Diabetic' 'Diabetic'\n  'Diabetic' 'Non Diabetic' 'Non Diabetic' 'Non Diabetic' 'Non Diabetic'\n  'Non Diabetic' 'Non Diabetic' 'Diabetic' 'Diabetic' 'Non Diabetic'\n  'Non Diabetic' 'Diabetic' 'Non Diabetic' 'Non Diabetic' 'Diabetic'\n  'Non Diabetic' 'Diabetic' 'Diabetic' 'Diabetic' 'Non Diabetic'\n  'Non Diabetic' 'Diabetic' 'Diabetic' 'Diabetic' 'Non Diabetic'\n  'Diabetic' 'Non Diabetic' 'Diabetic' 'Non Diabetic' 'Diabetic'\n  'Non Diabetic' 'Non Diabetic' 'Non Diabetic' 'Non Diabetic' 'Diabetic'\n  'Non Diabetic']] to numeric"
     ]
    }
   ],
   "source": [
    "df.fillna(df.median(),inplace=True)\n"
   ]
  },
  {
   "cell_type": "code",
   "execution_count": 22,
   "id": "2e67ed1b-39a2-4ff9-b428-6e1aa2369228",
   "metadata": {},
   "outputs": [
    {
     "name": "stdout",
     "output_type": "stream",
     "text": [
      "Pregnancies                 0\n",
      "Glucose                     0\n",
      "BloodPressure               0\n",
      "SkinThickness               0\n",
      "Insulin                     0\n",
      "BMI                         0\n",
      "DiabetesPedigreeFunction    0\n",
      "Age                         0\n",
      "Outcome                     0\n",
      "dtype: int64\n"
     ]
    }
   ],
   "source": [
    "df.fillna(df.median(numeric_only=True),inplace=True)\n",
    "print(df.isnull().sum())"
   ]
  },
  {
   "cell_type": "code",
   "execution_count": 23,
   "id": "20a26d2c-957f-4ffc-a11d-a4e5d4d46efb",
   "metadata": {},
   "outputs": [],
   "source": [
    "df['Outcome']=df['Outcome'].map({\"Diabetic\":1,\"Non Diabetic\":0})"
   ]
  },
  {
   "cell_type": "code",
   "execution_count": 24,
   "id": "424fc38b-3c5f-4ad2-a7f9-02ec9b8b07af",
   "metadata": {},
   "outputs": [
    {
     "data": {
      "text/html": [
       "<div>\n",
       "<style scoped>\n",
       "    .dataframe tbody tr th:only-of-type {\n",
       "        vertical-align: middle;\n",
       "    }\n",
       "\n",
       "    .dataframe tbody tr th {\n",
       "        vertical-align: top;\n",
       "    }\n",
       "\n",
       "    .dataframe thead th {\n",
       "        text-align: right;\n",
       "    }\n",
       "</style>\n",
       "<table border=\"1\" class=\"dataframe\">\n",
       "  <thead>\n",
       "    <tr style=\"text-align: right;\">\n",
       "      <th></th>\n",
       "      <th>Pregnancies</th>\n",
       "      <th>Glucose</th>\n",
       "      <th>BloodPressure</th>\n",
       "      <th>SkinThickness</th>\n",
       "      <th>Insulin</th>\n",
       "      <th>BMI</th>\n",
       "      <th>DiabetesPedigreeFunction</th>\n",
       "      <th>Age</th>\n",
       "      <th>Outcome</th>\n",
       "    </tr>\n",
       "  </thead>\n",
       "  <tbody>\n",
       "    <tr>\n",
       "      <th>0</th>\n",
       "      <td>6</td>\n",
       "      <td>148.0</td>\n",
       "      <td>72.0</td>\n",
       "      <td>35.0</td>\n",
       "      <td>125.0</td>\n",
       "      <td>33.6</td>\n",
       "      <td>0.627</td>\n",
       "      <td>50</td>\n",
       "      <td>1</td>\n",
       "    </tr>\n",
       "    <tr>\n",
       "      <th>1</th>\n",
       "      <td>1</td>\n",
       "      <td>85.0</td>\n",
       "      <td>66.0</td>\n",
       "      <td>29.0</td>\n",
       "      <td>125.0</td>\n",
       "      <td>26.6</td>\n",
       "      <td>0.351</td>\n",
       "      <td>31</td>\n",
       "      <td>0</td>\n",
       "    </tr>\n",
       "    <tr>\n",
       "      <th>2</th>\n",
       "      <td>8</td>\n",
       "      <td>183.0</td>\n",
       "      <td>64.0</td>\n",
       "      <td>29.0</td>\n",
       "      <td>125.0</td>\n",
       "      <td>23.3</td>\n",
       "      <td>0.672</td>\n",
       "      <td>32</td>\n",
       "      <td>1</td>\n",
       "    </tr>\n",
       "    <tr>\n",
       "      <th>3</th>\n",
       "      <td>1</td>\n",
       "      <td>89.0</td>\n",
       "      <td>66.0</td>\n",
       "      <td>23.0</td>\n",
       "      <td>94.0</td>\n",
       "      <td>28.1</td>\n",
       "      <td>0.167</td>\n",
       "      <td>21</td>\n",
       "      <td>0</td>\n",
       "    </tr>\n",
       "    <tr>\n",
       "      <th>4</th>\n",
       "      <td>0</td>\n",
       "      <td>137.0</td>\n",
       "      <td>40.0</td>\n",
       "      <td>35.0</td>\n",
       "      <td>168.0</td>\n",
       "      <td>43.1</td>\n",
       "      <td>2.288</td>\n",
       "      <td>33</td>\n",
       "      <td>1</td>\n",
       "    </tr>\n",
       "    <tr>\n",
       "      <th>...</th>\n",
       "      <td>...</td>\n",
       "      <td>...</td>\n",
       "      <td>...</td>\n",
       "      <td>...</td>\n",
       "      <td>...</td>\n",
       "      <td>...</td>\n",
       "      <td>...</td>\n",
       "      <td>...</td>\n",
       "      <td>...</td>\n",
       "    </tr>\n",
       "    <tr>\n",
       "      <th>763</th>\n",
       "      <td>10</td>\n",
       "      <td>101.0</td>\n",
       "      <td>76.0</td>\n",
       "      <td>48.0</td>\n",
       "      <td>180.0</td>\n",
       "      <td>32.9</td>\n",
       "      <td>0.171</td>\n",
       "      <td>63</td>\n",
       "      <td>0</td>\n",
       "    </tr>\n",
       "    <tr>\n",
       "      <th>764</th>\n",
       "      <td>2</td>\n",
       "      <td>122.0</td>\n",
       "      <td>70.0</td>\n",
       "      <td>27.0</td>\n",
       "      <td>125.0</td>\n",
       "      <td>36.8</td>\n",
       "      <td>0.340</td>\n",
       "      <td>27</td>\n",
       "      <td>0</td>\n",
       "    </tr>\n",
       "    <tr>\n",
       "      <th>765</th>\n",
       "      <td>5</td>\n",
       "      <td>121.0</td>\n",
       "      <td>72.0</td>\n",
       "      <td>23.0</td>\n",
       "      <td>112.0</td>\n",
       "      <td>26.2</td>\n",
       "      <td>0.245</td>\n",
       "      <td>30</td>\n",
       "      <td>0</td>\n",
       "    </tr>\n",
       "    <tr>\n",
       "      <th>766</th>\n",
       "      <td>1</td>\n",
       "      <td>126.0</td>\n",
       "      <td>60.0</td>\n",
       "      <td>29.0</td>\n",
       "      <td>125.0</td>\n",
       "      <td>30.1</td>\n",
       "      <td>0.349</td>\n",
       "      <td>47</td>\n",
       "      <td>1</td>\n",
       "    </tr>\n",
       "    <tr>\n",
       "      <th>767</th>\n",
       "      <td>1</td>\n",
       "      <td>93.0</td>\n",
       "      <td>70.0</td>\n",
       "      <td>31.0</td>\n",
       "      <td>125.0</td>\n",
       "      <td>30.4</td>\n",
       "      <td>0.315</td>\n",
       "      <td>23</td>\n",
       "      <td>0</td>\n",
       "    </tr>\n",
       "  </tbody>\n",
       "</table>\n",
       "<p>768 rows × 9 columns</p>\n",
       "</div>"
      ],
      "text/plain": [
       "     Pregnancies  Glucose  BloodPressure  SkinThickness  Insulin   BMI  \\\n",
       "0              6    148.0           72.0           35.0    125.0  33.6   \n",
       "1              1     85.0           66.0           29.0    125.0  26.6   \n",
       "2              8    183.0           64.0           29.0    125.0  23.3   \n",
       "3              1     89.0           66.0           23.0     94.0  28.1   \n",
       "4              0    137.0           40.0           35.0    168.0  43.1   \n",
       "..           ...      ...            ...            ...      ...   ...   \n",
       "763           10    101.0           76.0           48.0    180.0  32.9   \n",
       "764            2    122.0           70.0           27.0    125.0  36.8   \n",
       "765            5    121.0           72.0           23.0    112.0  26.2   \n",
       "766            1    126.0           60.0           29.0    125.0  30.1   \n",
       "767            1     93.0           70.0           31.0    125.0  30.4   \n",
       "\n",
       "     DiabetesPedigreeFunction  Age  Outcome  \n",
       "0                       0.627   50        1  \n",
       "1                       0.351   31        0  \n",
       "2                       0.672   32        1  \n",
       "3                       0.167   21        0  \n",
       "4                       2.288   33        1  \n",
       "..                        ...  ...      ...  \n",
       "763                     0.171   63        0  \n",
       "764                     0.340   27        0  \n",
       "765                     0.245   30        0  \n",
       "766                     0.349   47        1  \n",
       "767                     0.315   23        0  \n",
       "\n",
       "[768 rows x 9 columns]"
      ]
     },
     "execution_count": 24,
     "metadata": {},
     "output_type": "execute_result"
    }
   ],
   "source": [
    "df"
   ]
  },
  {
   "cell_type": "code",
   "execution_count": 25,
   "id": "223c8ab6-ad8a-4a2f-8c54-0a6a34aaf906",
   "metadata": {},
   "outputs": [],
   "source": [
    "x=df.iloc[::,:-1:]\n",
    "y=df['Outcome']"
   ]
  },
  {
   "cell_type": "code",
   "execution_count": 5,
   "id": "09ed906a-7cf7-4c67-815f-ca64499ac95f",
   "metadata": {},
   "outputs": [],
   "source": [
    "from sklearn.preprocessing import StandardScaler"
   ]
  },
  {
   "cell_type": "code",
   "execution_count": 6,
   "id": "cbd5d823-9142-4275-8d73-33207c0cead3",
   "metadata": {},
   "outputs": [],
   "source": [
    "scaler=StandardScaler()"
   ]
  },
  {
   "cell_type": "code",
   "execution_count": 7,
   "id": "7e923055-e023-45ad-95b8-05093495a9e6",
   "metadata": {},
   "outputs": [],
   "source": [
    "x_s=scaler.fit_transform"
   ]
  },
  {
   "cell_type": "code",
   "execution_count": 9,
   "id": "dde3f4ff-287b-4952-b12f-bdc8af3388c2",
   "metadata": {},
   "outputs": [],
   "source": [
    "from sklearn.model_selection import train_test_split"
   ]
  },
  {
   "cell_type": "code",
   "execution_count": 12,
   "id": "e53a34ed-074f-4296-b781-43162fbc833d",
   "metadata": {},
   "outputs": [
    {
     "ename": "NameError",
     "evalue": "name 'y' is not defined",
     "output_type": "error",
     "traceback": [
      "\u001b[1;31m---------------------------------------------------------------------------\u001b[0m",
      "\u001b[1;31mNameError\u001b[0m                                 Traceback (most recent call last)",
      "Cell \u001b[1;32mIn[12], line 1\u001b[0m\n\u001b[1;32m----> 1\u001b[0m x_train, x_test, y_train, y_test \u001b[38;5;241m=\u001b[39m train_test_split(x_s, y, test_size\u001b[38;5;241m=\u001b[39m\u001b[38;5;241m0.2\u001b[39m, random_state\u001b[38;5;241m=\u001b[39m\u001b[38;5;241m30\u001b[39m)\n",
      "\u001b[1;31mNameError\u001b[0m: name 'y' is not defined"
     ]
    }
   ],
   "source": [
    "x_train, x_test, y_train, y_test = train_test_split(x_s, y, test_size=0.2, random_state=30)"
   ]
  },
  {
   "cell_type": "code",
   "execution_count": null,
   "id": "16473572-226e-4b24-a65e-0c43909d0095",
   "metadata": {},
   "outputs": [],
   "source": [
    "from sklearn.neighbors import KNeighborsClassifier"
   ]
  },
  {
   "cell_type": "code",
   "execution_count": null,
   "id": "67640336-61b9-4f9a-8b0b-18f16f05a35e",
   "metadata": {},
   "outputs": [],
   "source": [
    "model=KNeighborsClassifier"
   ]
  },
  {
   "cell_type": "code",
   "execution_count": null,
   "id": "533e0199-fb63-43c7-b743-f5747f3e915c",
   "metadata": {},
   "outputs": [],
   "source": [
    "model.fit(x_train,y_train)"
   ]
  },
  {
   "cell_type": "code",
   "execution_count": null,
   "id": "5d37ecdd-c92b-40f0-b1c6-a0d8533461e0",
   "metadata": {},
   "outputs": [],
   "source": [
    "KNeighborsClassifier(n_neighbors=20)\n"
   ]
  },
  {
   "cell_type": "code",
   "execution_count": null,
   "id": "38fb44c6-d05f-4d5d-92cc-e49b965db704",
   "metadata": {},
   "outputs": [],
   "source": [
    "model.score(x_train,y_train)"
   ]
  },
  {
   "cell_type": "code",
   "execution_count": 14,
   "id": "484dd959-9d22-4f32-bea7-1d059bc0f28c",
   "metadata": {},
   "outputs": [],
   "source": [
    "from sklearn.pipeline import Pipeline"
   ]
  },
  {
   "cell_type": "code",
   "execution_count": null,
   "id": "cb410a6a-f2c3-445e-963b-e20a096291f5",
   "metadata": {},
   "outputs": [],
   "source": [
    "p=Pipeline(\n",
    "    [('s',StandardScaler()),\n",
    "    ('m',KNeighborsClassifier(n_neighbors=20))]\n",
    ")"
   ]
  },
  {
   "cell_type": "code",
   "execution_count": null,
   "id": "9910d6ab-0182-4fa6-a756-3ad3bb6d8cc9",
   "metadata": {},
   "outputs": [],
   "source": [
    "p.fit(x,y)"
   ]
  },
  {
   "cell_type": "code",
   "execution_count": null,
   "id": "76f2ecc8-0ccf-4085-8800-d0c479187d76",
   "metadata": {},
   "outputs": [],
   "source": []
  },
  {
   "cell_type": "code",
   "execution_count": null,
   "id": "657f992f-9f4e-41e4-9507-b5aaa579a4bf",
   "metadata": {},
   "outputs": [],
   "source": []
  },
  {
   "cell_type": "code",
   "execution_count": null,
   "id": "57c5f18b-b541-49a1-bec0-2d9b4ec7e262",
   "metadata": {},
   "outputs": [],
   "source": []
  },
  {
   "cell_type": "code",
   "execution_count": null,
   "id": "59a47713-09d8-41b9-9457-b8ae77f87d7c",
   "metadata": {},
   "outputs": [],
   "source": []
  },
  {
   "cell_type": "code",
   "execution_count": null,
   "id": "b6300584-733f-4f1d-a4d4-e192c1de8ab2",
   "metadata": {},
   "outputs": [],
   "source": []
  }
 ],
 "metadata": {
  "kernelspec": {
   "display_name": "Python 3 (ipykernel)",
   "language": "python",
   "name": "python3"
  },
  "language_info": {
   "codemirror_mode": {
    "name": "ipython",
    "version": 3
   },
   "file_extension": ".py",
   "mimetype": "text/x-python",
   "name": "python",
   "nbconvert_exporter": "python",
   "pygments_lexer": "ipython3",
   "version": "3.11.7"
  }
 },
 "nbformat": 4,
 "nbformat_minor": 5
}
